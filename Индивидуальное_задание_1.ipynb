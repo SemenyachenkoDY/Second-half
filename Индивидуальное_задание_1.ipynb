{
  "nbformat": 4,
  "nbformat_minor": 0,
  "metadata": {
    "colab": {
      "provenance": [],
      "authorship_tag": "ABX9TyMevyFt0HElgoZcZocpBeUV",
      "include_colab_link": true
    },
    "kernelspec": {
      "name": "python3",
      "display_name": "Python 3"
    },
    "language_info": {
      "name": "python"
    }
  },
  "cells": [
    {
      "cell_type": "markdown",
      "metadata": {
        "id": "view-in-github",
        "colab_type": "text"
      },
      "source": [
        "<a href=\"https://colab.research.google.com/github/SemenyachenkoDY/Second-half/blob/main/%D0%98%D0%BD%D0%B4%D0%B8%D0%B2%D0%B8%D0%B4%D1%83%D0%B0%D0%BB%D1%8C%D0%BD%D0%BE%D0%B5_%D0%B7%D0%B0%D0%B4%D0%B0%D0%BD%D0%B8%D0%B5_1.ipynb\" target=\"_parent\"><img src=\"https://colab.research.google.com/assets/colab-badge.svg\" alt=\"Open In Colab\"/></a>"
      ]
    },
    {
      "cell_type": "code",
      "execution_count": 25,
      "metadata": {
        "id": "aMXfP3Ix25xZ",
        "colab": {
          "base_uri": "https://localhost:8080/"
        },
        "outputId": "90c26952-4928-4a4e-dcfc-554c6f6a6b0c"
      },
      "outputs": [
        {
          "output_type": "stream",
          "name": "stdout",
          "text": [
            "Альбом:мои(твои) темные желания\n",
            "Группа:ooes\n",
            "Список треков:\n",
            "больше-2 минут\n",
            "последнее лето-3 минут\n",
            "мгла-2 минут\n",
            "Общая длительность альбома: 7 минут \n"
          ]
        }
      ],
      "source": [
        "class Track:\n",
        "    def __init__(self,name,duration):\n",
        "        self.duration = duration\n",
        "        self.name = name\n",
        "    \n",
        "    def show(self):\n",
        "        print(f\"{self.name}-{self.duration} минут\")\n",
        "\n",
        "class Album:\n",
        "    def __init__(self,name,group):\n",
        "        self.name = name\n",
        "        self.group = group\n",
        "        self.tracks=[]\n",
        "    \n",
        "    def get_tracks(self):\n",
        "        return self.tracks\n",
        "    def add_track(self,track):\n",
        "        self.tracks.append(track)\n",
        "    def get_duration(self):\n",
        "        td=0 #общая длительность треков\n",
        "        for track in self.tracks:\n",
        "            td += track.duration\n",
        "        return td\n",
        "track1= Track(\"больше\",2)\n",
        "track2 = Track(\"последнее лето\",3)\n",
        "track3 =Track(\"мгла\",2)\n",
        "album=Album(\"мои(твои) темные желания\",\"ooes\")\n",
        "album.add_track(track1)\n",
        "album.add_track(track2)\n",
        "album.add_track(track3)\n",
        "print(f\"Альбом:{album.name}\")\n",
        "print(f\"Группа:{album.group}\")\n",
        "print(\"Список треков:\")\n",
        "for track in album.get_tracks():\n",
        "     track.show()\n",
        "print(f\"Общая длительность альбома: {album.get_duration()} минут \")\n",
        "\n",
        "\n"
      ]
    }
  ]
}