{
  "nbformat": 4,
  "nbformat_minor": 0,
  "metadata": {
    "colab": {
      "provenance": [],
      "authorship_tag": "ABX9TyN5BzBMRjhbuM3D4yF5rUyX",
      "include_colab_link": true
    },
    "kernelspec": {
      "name": "python3",
      "display_name": "Python 3"
    },
    "language_info": {
      "name": "python"
    }
  },
  "cells": [
    {
      "cell_type": "markdown",
      "metadata": {
        "id": "view-in-github",
        "colab_type": "text"
      },
      "source": [
        "<a href=\"https://colab.research.google.com/github/SemenyachenkoDY/Second-half/blob/main/Lection3.ipynb\" target=\"_parent\"><img src=\"https://colab.research.google.com/assets/colab-badge.svg\" alt=\"Open In Colab\"/></a>"
      ]
    },
    {
      "cell_type": "code",
      "execution_count": 2,
      "metadata": {
        "id": "8JuSEmuxBX4Z"
      },
      "outputs": [],
      "source": [
        "class Car:\n",
        "    def __init__(self, color):\n",
        "    # Объявляем публичное поле color\n",
        "        self.color = color"
      ]
    },
    {
      "cell_type": "code",
      "source": [
        "# Создаем экземпляр класса Car\n",
        "car = Car('Grey')\n",
        "# Обращаемся к свойству color\n",
        "print(car.color)\n",
        "# Изменяем свойство color\n",
        "car.color = 'Red'\n",
        "print(car.color) "
      ],
      "metadata": {
        "colab": {
          "base_uri": "https://localhost:8080/"
        },
        "id": "Wir3rYNTBemT",
        "outputId": "8d5b6d82-8149-4329-d569-8b11944636fd"
      },
      "execution_count": 3,
      "outputs": [
        {
          "output_type": "stream",
          "name": "stdout",
          "text": [
            "Grey\n",
            "Red\n"
          ]
        }
      ]
    },
    {
      "cell_type": "markdown",
      "source": [
        "В соответствии с соглашением чтобы сделать атрибут класса защищенным (protected), необходимо добавить к имени символ подчеркивания _ . Пример такой реализации представлен ниже."
      ],
      "metadata": {
        "id": "7ZtAIZL8Bh17"
      }
    },
    {
      "cell_type": "code",
      "source": [
        "class Car:\n",
        "    def __init__(self, color):\n",
        "        self._color = color"
      ],
      "metadata": {
        "id": "Tuftt8X4BekK"
      },
      "execution_count": 4,
      "outputs": []
    },
    {
      "cell_type": "code",
      "source": [
        "# Создаем экземпляр класса Car\n",
        "car = Car('Grey')\n",
        "# Обращаемся к свойству color\n",
        "print(car._color)\n",
        "# Изменяем свойство color\n",
        "car._color = 'Red'\n",
        "print(car._color) "
      ],
      "metadata": {
        "colab": {
          "base_uri": "https://localhost:8080/"
        },
        "id": "3FvAx6GpBeiH",
        "outputId": "44a96765-0ee9-43cc-dc5d-fc0f5039e5e1"
      },
      "execution_count": 5,
      "outputs": [
        {
          "output_type": "stream",
          "name": "stdout",
          "text": [
            "Grey\n",
            "Red\n"
          ]
        }
      ]
    },
    {
      "cell_type": "markdown",
      "source": [
        "Это задача программиста – он не должен работать с атрибутами, имена которых начинаются с нижнего подчёркивания _ , снаружи класса. Часто намеренно скрываются поля самого класса, а не его объектов. Например, если класс имеет счетчик своих объектов, то необходимо исключить возможность его случайного изменения из вне. Рассмотрим пример с таким счетчиком на языке Python."
      ],
      "metadata": {
        "id": "2yfQRF-iBmAL"
      }
    },
    {
      "cell_type": "code",
      "source": [
        "class B:\n",
        "    count = 0\n",
        "    def __init__(self):\n",
        "        B.count += 1\n",
        "    def __del__(self):\n",
        "        B.count -= 1"
      ],
      "metadata": {
        "id": "wtm2iwihBef3"
      },
      "execution_count": 6,
      "outputs": []
    },
    {
      "cell_type": "code",
      "source": [
        "a = B()\n",
        "b = B()\n",
        "print(B.count) # выведет 2\n",
        "del a\n",
        "print(B.count) # выведет 1\n",
        "\n",
        "\n",
        "print(B.count - 1)"
      ],
      "metadata": {
        "colab": {
          "base_uri": "https://localhost:8080/"
        },
        "id": "FojfMjlZBedo",
        "outputId": "3741ba32-dd47-49f3-8536-82e961c27c47"
      },
      "execution_count": 7,
      "outputs": [
        {
          "output_type": "stream",
          "name": "stdout",
          "text": [
            "2\n",
            "1\n",
            "0\n"
          ]
        }
      ]
    },
    {
      "cell_type": "markdown",
      "source": [
        "Все работает. Проблема только в том, что если в основной ветке где-то по ошибке или случайно произойдет присвоение полю B.count, то счетчик будет испорчен.\n",
        "\n",
        "Для имитации сокрытия атрибутов в Python используется соглашение – это не синтаксическое правило языка, при желании его можно нарушить, согласно которому, если поле или метод имеют два знака подчеркивания впереди имени, но не сзади, то этот атрибут предусмотрен исключительно для внутреннего пользования."
      ],
      "metadata": {
        "id": "Wg1Z0qfbBrOS"
      }
    },
    {
      "cell_type": "code",
      "source": [
        "class B:\n",
        "    __count = 0\n",
        "    def __init__(self):\n",
        "        B.__count += 1\n",
        "    def __del__(self):\n",
        "        B.__count -= 1\n",
        "\n",
        "a = B()\n",
        "print(B.__count)\n",
        "\n",
        "# Попытка выполнить этот код приведет к выбросу исключения"
      ],
      "metadata": {
        "colab": {
          "base_uri": "https://localhost:8080/",
          "height": 235
        },
        "id": "tLxu7qV_BeWt",
        "outputId": "92cb88a9-8f19-4a4c-c4d3-f22fa64625e7"
      },
      "execution_count": 8,
      "outputs": [
        {
          "output_type": "error",
          "ename": "AttributeError",
          "evalue": "ignored",
          "traceback": [
            "\u001b[0;31m---------------------------------------------------------------------------\u001b[0m",
            "\u001b[0;31mAttributeError\u001b[0m                            Traceback (most recent call last)",
            "\u001b[0;32m<ipython-input-8-32c524889a03>\u001b[0m in \u001b[0;36m<cell line: 9>\u001b[0;34m()\u001b[0m\n\u001b[1;32m      7\u001b[0m \u001b[0;34m\u001b[0m\u001b[0m\n\u001b[1;32m      8\u001b[0m \u001b[0ma\u001b[0m \u001b[0;34m=\u001b[0m \u001b[0mB\u001b[0m\u001b[0;34m(\u001b[0m\u001b[0;34m)\u001b[0m\u001b[0;34m\u001b[0m\u001b[0;34m\u001b[0m\u001b[0m\n\u001b[0;32m----> 9\u001b[0;31m \u001b[0mprint\u001b[0m\u001b[0;34m(\u001b[0m\u001b[0mB\u001b[0m\u001b[0;34m.\u001b[0m\u001b[0m__count\u001b[0m\u001b[0;34m)\u001b[0m\u001b[0;34m\u001b[0m\u001b[0;34m\u001b[0m\u001b[0m\n\u001b[0m\u001b[1;32m     10\u001b[0m \u001b[0;34m\u001b[0m\u001b[0m\n\u001b[1;32m     11\u001b[0m \u001b[0;31m# Попытка выполнить этот код приведет к выбросу исключения\u001b[0m\u001b[0;34m\u001b[0m\u001b[0;34m\u001b[0m\u001b[0m\n",
            "\u001b[0;31mAttributeError\u001b[0m: type object 'B' has no attribute '__count'"
          ]
        }
      ]
    },
    {
      "cell_type": "markdown",
      "source": [
        "То есть атрибут __ count за пределами класса становится невидимым, хотя внутри класса он вполне себе видимый. Понятно, если не можем даже получить значение поля за пределами класса, то присвоить ему значение – тем более. На самом деле сокрытие в Python не настоящее и доступ к счетчику получить все же можем. Но для этого надо написать B._B__count"
      ],
      "metadata": {
        "id": "XXUi9v27Buis"
      }
    },
    {
      "cell_type": "code",
      "source": [
        "print(B._B__count)"
      ],
      "metadata": {
        "colab": {
          "base_uri": "https://localhost:8080/"
        },
        "id": "4m-ywmZXBubI",
        "outputId": "bdebaf40-2d63-439d-c305-01583eb1ecb8"
      },
      "execution_count": 9,
      "outputs": [
        {
          "output_type": "stream",
          "name": "stdout",
          "text": [
            "1\n"
          ]
        }
      ]
    },
    {
      "cell_type": "markdown",
      "source": [
        "Если в классе есть атрибут с двумя первыми подчеркиваниями, то для доступа извне к имени атрибута добавляется имя класса с одним впереди стоящим подчеркиванием. В результате атрибут как он есть в данном случае __ count оказывается замаскированным. Вне класса такого атрибута просто не существует. Наличие двух подчеркиваний перед атрибутом должно сигнализировать, что трогать его вне класса не стоит вообще, даже через B.__count, разве что при крайней необходимости. Хорошо, мы защитили поле от случайных изменений. Но как теперь получить его значение? Сделать это можно с помощью добавления метода/"
      ],
      "metadata": {
        "id": "xu9kE_v7Bx3w"
      }
    },
    {
      "cell_type": "code",
      "source": [
        "class B:\n",
        "    __count = 0\n",
        "    def __init__(self):\n",
        "        B.__count += 1\n",
        "    def __del__(self):\n",
        "        B.__count -= 1\n",
        "    def qtyObject():\n",
        "        return B.__count\n",
        "\n",
        "a = B()\n",
        "b = B()\n",
        "\n",
        "print(B.qtyObject())"
      ],
      "metadata": {
        "colab": {
          "base_uri": "https://localhost:8080/"
        },
        "id": "ZntjBwXvBuZG",
        "outputId": "6058bf25-2c63-4ffd-f168-93ce710506d6"
      },
      "execution_count": 10,
      "outputs": [
        {
          "output_type": "stream",
          "name": "stdout",
          "text": [
            "2\n"
          ]
        },
        {
          "output_type": "stream",
          "name": "stderr",
          "text": [
            "Exception ignored in: <function B.__del__ at 0x7f2634dae9e0>\n",
            "Traceback (most recent call last):\n",
            "  File \"<ipython-input-6-7f9f408e2b19>\", line 6, in __del__\n",
            "AttributeError: type object 'B' has no attribute 'count'\n"
          ]
        }
      ]
    },
    {
      "cell_type": "markdown",
      "source": [
        "В данном случае метод qtyObject()) не принимает объект (нет self), поэтому вызывать его надо через класс. То же самое с методами. Их можно сделать \"приватными\" с помощью двойного подчеркивания."
      ],
      "metadata": {
        "id": "nd8Tv4xmB0-W"
      }
    },
    {
      "cell_type": "code",
      "source": [
        "class DoubleList:\n",
        "    def __init__(self, l):\n",
        "        self.double = DoubleList.__makeDouble(l)\n",
        "    def __makeDouble(old):\n",
        "        new = []\n",
        "        for i in old:\n",
        "            new.append(i)\n",
        "            new.append(i)\n",
        "        return new\n",
        "\n",
        "nums = DoubleList([1, 3, 4, 6, 12])\n",
        "print(nums.double)\n",
        "print(DoubleList.__makeDouble([1,2]))\n",
        "\n",
        "# должно вывести цифры 1 1 3 3 4 4 6 6 12 12 и ошибку"
      ],
      "metadata": {
        "colab": {
          "base_uri": "https://localhost:8080/",
          "height": 252
        },
        "id": "QCgiv4mZBuW_",
        "outputId": "539f4944-9081-40cd-b18e-aecc2f7252b0"
      },
      "execution_count": 1,
      "outputs": [
        {
          "output_type": "stream",
          "name": "stdout",
          "text": [
            "[1, 1, 3, 3, 4, 4, 6, 6, 12, 12]\n"
          ]
        },
        {
          "output_type": "error",
          "ename": "AttributeError",
          "evalue": "ignored",
          "traceback": [
            "\u001b[0;31m---------------------------------------------------------------------------\u001b[0m",
            "\u001b[0;31mAttributeError\u001b[0m                            Traceback (most recent call last)",
            "\u001b[0;32m<ipython-input-1-12f7d6923ba0>\u001b[0m in \u001b[0;36m<cell line: 13>\u001b[0;34m()\u001b[0m\n\u001b[1;32m     11\u001b[0m \u001b[0mnums\u001b[0m \u001b[0;34m=\u001b[0m \u001b[0mDoubleList\u001b[0m\u001b[0;34m(\u001b[0m\u001b[0;34m[\u001b[0m\u001b[0;36m1\u001b[0m\u001b[0;34m,\u001b[0m \u001b[0;36m3\u001b[0m\u001b[0;34m,\u001b[0m \u001b[0;36m4\u001b[0m\u001b[0;34m,\u001b[0m \u001b[0;36m6\u001b[0m\u001b[0;34m,\u001b[0m \u001b[0;36m12\u001b[0m\u001b[0;34m]\u001b[0m\u001b[0;34m)\u001b[0m\u001b[0;34m\u001b[0m\u001b[0;34m\u001b[0m\u001b[0m\n\u001b[1;32m     12\u001b[0m \u001b[0mprint\u001b[0m\u001b[0;34m(\u001b[0m\u001b[0mnums\u001b[0m\u001b[0;34m.\u001b[0m\u001b[0mdouble\u001b[0m\u001b[0;34m)\u001b[0m\u001b[0;34m\u001b[0m\u001b[0;34m\u001b[0m\u001b[0m\n\u001b[0;32m---> 13\u001b[0;31m \u001b[0mprint\u001b[0m\u001b[0;34m(\u001b[0m\u001b[0mDoubleList\u001b[0m\u001b[0;34m.\u001b[0m\u001b[0m__makeDouble\u001b[0m\u001b[0;34m(\u001b[0m\u001b[0;34m[\u001b[0m\u001b[0;36m1\u001b[0m\u001b[0;34m,\u001b[0m\u001b[0;36m2\u001b[0m\u001b[0;34m]\u001b[0m\u001b[0;34m)\u001b[0m\u001b[0;34m)\u001b[0m\u001b[0;34m\u001b[0m\u001b[0;34m\u001b[0m\u001b[0m\n\u001b[0m\u001b[1;32m     14\u001b[0m \u001b[0;34m\u001b[0m\u001b[0m\n\u001b[1;32m     15\u001b[0m \u001b[0;31m# должно вывести цифры 1 1 3 3 4 4 6 6 12 12 и ошибку\u001b[0m\u001b[0;34m\u001b[0m\u001b[0;34m\u001b[0m\u001b[0m\n",
            "\u001b[0;31mAttributeError\u001b[0m: type object 'DoubleList' has no attribute '__makeDouble'"
          ]
        }
      ]
    }
  ]
}