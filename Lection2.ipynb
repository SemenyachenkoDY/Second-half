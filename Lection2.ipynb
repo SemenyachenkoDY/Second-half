{
  "nbformat": 4,
  "nbformat_minor": 0,
  "metadata": {
    "colab": {
      "provenance": [],
      "authorship_tag": "ABX9TyOPYnDucOWlcVqqI5XuRPOj",
      "include_colab_link": true
    },
    "kernelspec": {
      "name": "python3",
      "display_name": "Python 3"
    },
    "language_info": {
      "name": "python"
    }
  },
  "cells": [
    {
      "cell_type": "markdown",
      "metadata": {
        "id": "view-in-github",
        "colab_type": "text"
      },
      "source": [
        "<a href=\"https://colab.research.google.com/github/SemenyachenkoDY/Second-half/blob/main/Lection2.ipynb\" target=\"_parent\"><img src=\"https://colab.research.google.com/assets/colab-badge.svg\" alt=\"Open In Colab\"/></a>"
      ]
    },
    {
      "cell_type": "markdown",
      "source": [
        "#Коды с лекции второй практической работы"
      ],
      "metadata": {
        "id": "u3sX0-c3Onhn"
      }
    },
    {
      "cell_type": "code",
      "execution_count": null,
      "metadata": {
        "colab": {
          "base_uri": "https://localhost:8080/"
        },
        "id": "3o1-E63AOjdn",
        "outputId": "49b070e1-7f7f-4a93-ccf9-af41ced62f11"
      },
      "outputs": [
        {
          "output_type": "stream",
          "name": "stdout",
          "text": [
            "Петр говорит\n",
            "Человек без имени говорит\n",
            "Елена говорит\n"
          ]
        }
      ],
      "source": [
        "class Person:\n",
        "    def __init__(self, nаmе='Человек без имени'):\n",
        "        self.nаmе = nаmе\n",
        "        self.age = 0\n",
        "    def say(self):\n",
        "        print(\"{0} говорит\".format(self.nаmе))\n",
        "    # Person - родительский класс\n",
        "\n",
        "class Employee(Person):\n",
        "    def set_job(self, job_title='Безработный'):\n",
        "        self.job_title = job_title\n",
        "    def get_job(self):\n",
        "        print(self.job_title)\n",
        "    # Employee - дочерний класс\n",
        "\n",
        "class Customer(Person):\n",
        "    def set_email(self, email='Heт почты'):\n",
        "        self.email = email\n",
        "    def get_email(self):\n",
        "        print(self.email)\n",
        "\n",
        "# создаем человека с именем 'Петр':\n",
        "person = Person('Петр')\n",
        "# просим человека что-нибудь сказать:\n",
        "person.say()\n",
        "# создаем работника без имени:\n",
        "emp = Employee()\n",
        "emp.say() # метод наследовался из класса Person\n",
        "# хотим, чтобы в момент создания Employee\n",
        "# заполнялась должность\n",
        "cust = Customer('Елена')\n",
        "cust.say()\n",
        "# метод наследовался из класса Person\n",
        "# хотим, чтобы в момент создания Customer\n",
        "# заполнялась почта "
      ]
    },
    {
      "cell_type": "code",
      "source": [
        "class Person:\n",
        "    def __init__(self, name='Человек без имени'):\n",
        "        self.name = name\n",
        "        self.age = 0\n",
        "\n",
        "    def say(self):\n",
        "        print(\"{0} говорит\".format(self.name))\n",
        "\n",
        "class Employee(Person):\n",
        "# переопределяем конструктор:\n",
        "    def __init__(self, name):\n",
        "# вызываем конструктор базового класса:\n",
        "        Person.__init__(self)\n",
        "# определяем атрибут по умолчанию:\n",
        "        self.job_title = 'Безработный'\n",
        "    def set_job(self, job_title='Безработный'):\n",
        "        self.job_title = job_title\n",
        "    def get_job(self):\n",
        "        print(self.name, self.job_title)\n",
        "\n",
        "class Customer(Person):\n",
        "    def __init__(self, name):\n",
        "        Person.__init__(self)\n",
        "        self.email = 'Нет почты'\n",
        "    def set_email(self, email='Нет почты'):\n",
        "        self.email = email\n",
        "    def get_email(self):\n",
        "        print(self.name, self.email) \n",
        "     \n",
        "\n",
        "person = Person('Иван')\n",
        "person.say()\n",
        "emp = Employee('Игорь')\n",
        "emp.say()\n",
        "emp.get_job()\n",
        "cust = Customer('Петр')\n",
        "cust.say()\n",
        "cust.get_email()"
      ],
      "metadata": {
        "colab": {
          "base_uri": "https://localhost:8080/"
        },
        "id": "5ZCJzh62OyH_",
        "outputId": "88e73e91-a4df-4082-ddf8-6cb555c96f89"
      },
      "execution_count": null,
      "outputs": [
        {
          "output_type": "stream",
          "name": "stdout",
          "text": [
            "Иван говорит\n",
            "Человек без имени говорит\n",
            "Человек без имени Безработный\n",
            "Человек без имени говорит\n",
            "Человек без имени Нет почты\n"
          ]
        }
      ]
    },
    {
      "cell_type": "code",
      "source": [
        "class A:\n",
        "    def some_function(self):\n",
        "        print(\"First function\")\n",
        "\n",
        "    def other_function(self):\n",
        "        print(\"Second function\")\n",
        "\n",
        "class B:\n",
        "    def method_in_B(self):\n",
        "        print(\"Third function\")\n",
        "\n",
        "class C(A):\n",
        "    def other_function(self):\n",
        "        print(\"Replaced function\")\n",
        "\n",
        "class D(B, C):\n",
        "    pass\n",
        "     \n",
        "\n",
        "# Посмотрим все атрибуты класса, не являющиеся служебными\n",
        "print(\"A:\\t\", list(filter(lambda x: \"__\" not in x, dir(A))))\n",
        "print(\"B:\\t\", list(filter(lambda x: \"__\" not in x, dir(B))))\n",
        "print(\"C(A):\\t\", list(filter(lambda x: \"__\" not in x,\n",
        "dir(C))))\n",
        "print(\"D(B,C):\\t\", list(filter(lambda x: \"__\" not in x,\n",
        "dir(D))))\n",
        "print()"
      ],
      "metadata": {
        "colab": {
          "base_uri": "https://localhost:8080/"
        },
        "id": "MVzsgu8wO3YQ",
        "outputId": "0e14d373-7c72-4753-d24a-3acd225b1770"
      },
      "execution_count": null,
      "outputs": [
        {
          "output_type": "stream",
          "name": "stdout",
          "text": [
            "A:\t ['other_function', 'some_function']\n",
            "B:\t ['method_in_B']\n",
            "C(A):\t ['other_function', 'some_function']\n",
            "D(B,C):\t ['method_in_B', 'other_function', 'some_function']\n",
            "\n"
          ]
        }
      ]
    },
    {
      "cell_type": "code",
      "source": [
        "d = D()\n",
        "d.method_in_B()\n",
        "d.some_function()\n",
        "d.other_function()\n",
        "print()"
      ],
      "metadata": {
        "colab": {
          "base_uri": "https://localhost:8080/"
        },
        "id": "S6NpewqVO661",
        "outputId": "025d9d5c-994f-4ad0-fdc3-21899c86f54f"
      },
      "execution_count": null,
      "outputs": [
        {
          "output_type": "stream",
          "name": "stdout",
          "text": [
            "Third function\n",
            "First function\n",
            "Replaced function\n",
            "\n"
          ]
        }
      ]
    },
    {
      "cell_type": "code",
      "source": [
        "class A:\n",
        "    var_A = 1\n",
        "    def method_A(self):\n",
        "        print(\"A\")\n",
        "\n",
        "class B(A):\n",
        "    var_B = 2\n",
        "    def method_B(self):\n",
        "        print(\"B\")\n",
        "\n",
        "class C(B):\n",
        "    var_C = 3\n",
        "    def method_C(self):\n",
        "        print(\"C\")\n",
        "\n",
        "     \n",
        "\n",
        "print(\"A:\\t\", list(filter(lambda x: \"__\" not in x,\n",
        "dir(A))))\n",
        "print(\"B(A):\\t\", list(filter(lambda x: \"__\" not in x,\n",
        "dir(B))))\n",
        "print(\"C(B):\\t\", list(filter(lambda x: \"__\" not in x,\n",
        "dir(C))))\n",
        "print()\n",
        "\n",
        "# Print:\n",
        "# A: ['method_A', 'var_A']\n",
        "# B(A): ['method_A', 'method_B', 'var_A', 'var_B']\n",
        "# C(B): ['method_A', 'method_B', 'method_C', 'var_A', 'var_B', 'var_C'] \n"
      ],
      "metadata": {
        "colab": {
          "base_uri": "https://localhost:8080/"
        },
        "id": "tEi8Jd07O3U7",
        "outputId": "61cd6115-f71e-4c48-d36f-97e3f4727540"
      },
      "execution_count": null,
      "outputs": [
        {
          "output_type": "stream",
          "name": "stdout",
          "text": [
            "A:\t ['method_A', 'var_A']\n",
            "B(A):\t ['method_A', 'method_B', 'var_A', 'var_B']\n",
            "C(B):\t ['method_A', 'method_B', 'method_C', 'var_A', 'var_B', 'var_C']\n",
            "\n"
          ]
        }
      ]
    },
    {
      "cell_type": "code",
      "source": [
        "class A:\n",
        "    value = 13\n",
        "    def some_method(self):\n",
        "        print(f\"Method in A, value = {self.value}\")\n",
        "class B(A):\n",
        "    def some_method(self):\n",
        "        print(f\"Method in B, value = {self.value}\")\n",
        "class C(B):\n",
        "    value = 6\n",
        "    def some_method(self):\n",
        "        print(f\"Method in C, value = {self.value}\")\n",
        "\n",
        "A().some_method()\n",
        "B().some_method()\n",
        "C().some_method()\n",
        "print()\n",
        "\n",
        "# Print:\n",
        "# Method in A, value = 13\n",
        "# Method in B, value = 13\n",
        "# Method in C, value = 6"
      ],
      "metadata": {
        "colab": {
          "base_uri": "https://localhost:8080/"
        },
        "id": "4-l_QHH8O3TM",
        "outputId": "5c41e6a5-75ba-48f3-d77a-dda8213b02e5"
      },
      "execution_count": null,
      "outputs": [
        {
          "output_type": "stream",
          "name": "stdout",
          "text": [
            "Method in A, value = 13\n",
            "Method in B, value = 13\n",
            "Method in C, value = 6\n",
            "\n"
          ]
        }
      ]
    },
    {
      "cell_type": "code",
      "source": [
        "class A:\n",
        "    def some_function(self):\n",
        "        print(\"First function\")\n",
        "    def other_function(self):\n",
        "        print(\"Second function\")\n",
        "\n",
        "class B:\n",
        "    def method_in_B(self):\n",
        "        print(\"Third function\")\n",
        "class С(A, B):\n",
        "    pass\n",
        "    \n",
        "# Посмотрим все атрибуты класса, не являющиеся служебными\n",
        "print(\"A:\\t\", list(filter(lambda x: \"__\" not in x,\n",
        "dir(A))))\n",
        "print(\"B:\\t\", list(filter(lambda x: \"__\" not in x,\n",
        "dir(B))))\n",
        "print(\"С(A,B):\\t\", list(filter(lambda x: \"__\" not in x,\n",
        "dir(С))))\n",
        "print()\n",
        "\n",
        "# Print:\n",
        "# A: ['other_function', 'some_function']\n",
        "# B: ['method_in_B']\n",
        "# С(A,B): ['method_in_B', 'other_function', 'some_function']\n",
        "     \n"
      ],
      "metadata": {
        "colab": {
          "base_uri": "https://localhost:8080/"
        },
        "id": "MFNEte5mO3Q6",
        "outputId": "06cc1ea5-4187-404b-8d8d-964f31d5a675"
      },
      "execution_count": null,
      "outputs": [
        {
          "output_type": "stream",
          "name": "stdout",
          "text": [
            "A:\t ['other_function', 'some_function']\n",
            "B:\t ['method_in_B']\n",
            "С(A,B):\t ['method_in_B', 'other_function', 'some_function']\n",
            "\n"
          ]
        }
      ]
    }
  ]
}