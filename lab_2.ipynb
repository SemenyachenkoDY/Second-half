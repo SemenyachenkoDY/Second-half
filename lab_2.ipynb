{
  "nbformat": 4,
  "nbformat_minor": 0,
  "metadata": {
    "colab": {
      "provenance": [],
      "authorship_tag": "ABX9TyORwe8kvCLVKT6BDBv1zIko",
      "include_colab_link": true
    },
    "kernelspec": {
      "name": "python3",
      "display_name": "Python 3"
    },
    "language_info": {
      "name": "python"
    }
  },
  "cells": [
    {
      "cell_type": "markdown",
      "metadata": {
        "id": "view-in-github",
        "colab_type": "text"
      },
      "source": [
        "<a href=\"https://colab.research.google.com/github/SemenyachenkoDY/Second-half/blob/main/lab_2.ipynb\" target=\"_parent\"><img src=\"https://colab.research.google.com/assets/colab-badge.svg\" alt=\"Open In Colab\"/></a>"
      ]
    },
    {
      "cell_type": "markdown",
      "source": [
        "В рамках приложения разработать класс В – наследник класса А (задание\n",
        "2) с полем d и свойством с2. Свойство с2 – результат вычисления\n",
        "выражения над полями a, b, d. В теле свойства использовать управляющий\n",
        "оператор (см. вариант в таблице 2.2). У класса А создать конструктор,\n",
        "инициализирующий его поля. Для класса В определить 2 конструктора:\n",
        "один – наследуется от конструктора класса А, второй – собственный. В\n",
        "теле программы создать объекты классов А и В, продемонстрировав\n",
        "работу всех конструкторов. Вывести значения свойства на экран."
      ],
      "metadata": {
        "id": "hs_PmbjSv3WL"
      }
    },
    {
      "cell_type": "code",
      "execution_count": null,
      "metadata": {
        "id": "YbHJX_frbvs1",
        "colab": {
          "base_uri": "https://localhost:8080/"
        },
        "outputId": "7d2774b9-6920-480b-cde4-cadbbc45231f"
      },
      "outputs": [
        {
          "output_type": "stream",
          "name": "stdout",
          "text": [
            "a = 3, b = 4, c = 5\n",
            "-------\n",
            "Конструктор класса А:\n",
            "2\n",
            "3\n",
            "-------\n",
            "Конструктор класса B\n",
            "3\n",
            "4\n",
            "5\n",
            "-------\n",
            "-1\n",
            "2.0\n",
            "8.0\n",
            "Process deleted.\n",
            "Process deleted.\n"
          ]
        }
      ],
      "source": [
        "class A():\n",
        "    \"\"\"\n",
        "    Class that divides and reduce numbers.\n",
        "    \"\"\"\n",
        "    def __init__(self, a, b):\n",
        "        self.a = a\n",
        "        self.b = b\n",
        "    \n",
        "    def divide(self, a=1, b=1):\n",
        "        \"\"\"\n",
        "        Function divides first number by second number.\n",
        "        \"\"\"\n",
        "        c = self.a / self.b\n",
        "        return c\n",
        "    \n",
        "    def reduce(self, a=1, b=1):\n",
        "        \"\"\"\n",
        "        Function reduce first number by second number.\n",
        "        \"\"\"\n",
        "        c = self.a - self.b\n",
        "        return c\n",
        "    \n",
        "    def __del__(self):\n",
        "        print('Process deleted.')\n",
        "\n",
        "class B(A):\n",
        "    \"\"\"\n",
        "    Class, that derived from class `A`.\n",
        "    \"\"\"\n",
        "    def __init__(self, a, b, c):\n",
        "        self.c = c\n",
        "        self.b = b\n",
        "        self.a = a\n",
        "        # Переопределение метода (добавление еще одной переменной)\n",
        "\n",
        "    def c2(self):\n",
        "        if self.c < self.a:\n",
        "            res = self.divide(self.c, self.a)\n",
        "        elif self.c > self.a:\n",
        "            res = self.reduce(self.c, self.a)\n",
        "        elif self.c == self.a:\n",
        "            res = self.c\n",
        "        elif self.c < self.b:\n",
        "            res = self.divide(self.c, self.b)\n",
        "        elif self.c > self.b:\n",
        "            res = self.reduce(self.c, self.b)\n",
        "        elif self.c == self.b:\n",
        "            res = self.b\n",
        "        return res\n",
        "\n",
        "     \n",
        "\n",
        "if __name__ == '__main__':\n",
        "    f = A(2, 3)\n",
        "    g = B(3, 4, 5)\n",
        "\n",
        "    print('a = {}, b = {}, c = {}'.format(g.a, g.b, g.c))\n",
        "\n",
        "    # Конструктор класса A:\n",
        "    print('-' * 7 + '\\n' + 'Конструктор класса А:')\n",
        "    print(f.a) # Output: 2\n",
        "    print(f.b) # Output: 3\n",
        "\n",
        "    # Конструктор класса B:\n",
        "    print('-' * 7 + '\\n' + 'Конструктор класса B')\n",
        "    print(g.a) # Output: 3\n",
        "    print(g.b) # Output: 4\n",
        "    print(g.c) # Output: 5\n",
        "\n",
        "    print('-' * 7)\n",
        "\n",
        "    print(g.c2()) # Output: -1\n",
        "\n",
        "    g.a = 8\n",
        "    print(g.c2()) # Output: 2.0\n",
        "\n",
        "    g.b = 1\n",
        "    print(g.c2()) # Output: 8.0\n",
        "\n",
        "    del f, g"
      ]
    },
    {
      "cell_type": "markdown",
      "source": [
        "#Упражнения для всех вариантов\n"
      ],
      "metadata": {
        "id": "9w7UBeDvwuFb"
      }
    },
    {
      "cell_type": "markdown",
      "source": [
        "1. Создайте класс «зарплата», который вычисляет сумму зарплаты в зависимости\n",
        "от тарифной ставки и числа отработанных дней. Расширьте метод начислением\n",
        "процентов в зависимости от объема продаж. "
      ],
      "metadata": {
        "id": "zx4dOTORwwES"
      }
    },
    {
      "cell_type": "code",
      "source": [
        "class Salary():\n",
        "    def __init__(self):\n",
        "        hello = input('Use standart options (Y/N)?: ').lower()\n",
        "        self.percent = 0.1\n",
        "        if hello == 'y':\n",
        "            self.salarys = 25000\n",
        "            self.work_days = 25\n",
        "            self.actual_days = 20\n",
        "            self.quantity_trades = 12000001\n",
        "        else:\n",
        "            try:\n",
        "                self.salarys = float(input('Enter variable salary of the month: '))\n",
        "                self.work_days = int(input('Enter quantity of work days in the month: '))\n",
        "                self.actual_days = int(input('Enter quantity of actual days worked: '))\n",
        "                self.quantity_trades = int(input('Enter quantity of trades in month: '))\n",
        "                assert self.salarys > 0 and self.work_days > 0 and self.actual_days > 0 and self.quantity_trades > 0\n",
        "            except:\n",
        "                print('Invalid input. Using standart options.')\n",
        "                self.salarys = 25000\n",
        "                self.work_days = 25\n",
        "                self.actual_days = 20\n",
        "                self.quantity_trades = 12000001\n",
        "\n",
        "\n",
        "            if (self.quantity_trades > 1200000):\n",
        "                self.percent = 0.1\n",
        "            else:\n",
        "                self.percent = 0.05\n",
        "\n",
        "    def p_upp(self):\n",
        "        self.res = self.salarys / self.work_days * self.actual_days\n",
        "        \n",
        "        self.res += self.percent * self.res\n",
        "        print(self.res)\n",
        "        return self.res\n",
        "\n",
        "    def __del__(self):\n",
        "        print('Process deleted.')\n",
        "     \n",
        "a = Salary()\n",
        "a.p_upp()\n",
        "del a\n"
      ],
      "metadata": {
        "colab": {
          "base_uri": "https://localhost:8080/"
        },
        "id": "M-6p8KEhwwj6",
        "outputId": "12f3e153-af05-4c36-b62f-fe66085e55d5"
      },
      "execution_count": null,
      "outputs": [
        {
          "output_type": "stream",
          "name": "stdout",
          "text": [
            "Use standart options (Y/N)?: m\n",
            "Enter variable salary of the month: adm;l\n",
            "Invalid input. Using standart options.\n",
            "22000.0\n"
          ]
        }
      ]
    },
    {
      "cell_type": "markdown",
      "source": [
        "2. Переопределите метод начисления зарплаты: в случае, если объем продаж в\n",
        "месяц превысил 1 000 000, проценты добавляются к зарплате, в противном\n",
        "случае – вычитаются. "
      ],
      "metadata": {
        "id": "Zw5kNonOwzU3"
      }
    },
    {
      "cell_type": "code",
      "source": [
        "class Salary():\n",
        "    def __init__(self, answer='n'):\n",
        "        self.percent = 0.1\n",
        "        if answer.lower() == 'y':\n",
        "            self.salarys = 25000\n",
        "            self.work_days = 25\n",
        "            self.actual_days = 20\n",
        "            self.quantity_trades = 1119000\n",
        "        else:\n",
        "            try:\n",
        "                self.salarys = float(input('Enter variable salary of the month: '))\n",
        "                self.work_days = int(input('Enter quantity of work days in the month: '))\n",
        "                self.actual_days = int(input('Enter quantity of actual days worked: '))\n",
        "                self.quantity_trades = int(input('Enter quantity of trades in month: '))\n",
        "                assert self.salarys > 0 and self.work_days > 0 and self.actual_days > 0 and self.quantity_trades > 0\n",
        "            except:\n",
        "                print('Invalid input. Using standart options.')\n",
        "                self.salarys = 25000\n",
        "                self.work_days = 25\n",
        "                self.actual_days = 20\n",
        "                self.quantity_trades = 1119000\n",
        "\n",
        "        if (self.quantity_trades >= 1200000):\n",
        "            self.percent = 0.1\n",
        "        else:\n",
        "            self.percent = 0.05\n",
        "\n",
        "    def trades(self, quantity):\n",
        "        if quantity > 1000000:\n",
        "            return True\n",
        "        return False\n",
        "\n",
        "    def p_upp(self):\n",
        "        self.res = self.salarys / self.work_days * self.actual_days\n",
        "\n",
        "        bool2 = self.trades(self.quantity_trades)\n",
        "        if bool2:\n",
        "            self.res += self.res * self.percent\n",
        "        else:\n",
        "            self.res -= self.res * self.percent\n",
        "\n",
        "        print(self.res)\n",
        "        return self.res\n",
        "    def __del__(self):\n",
        "        print('Process deleted.')\n",
        "     \n",
        "\n",
        "a = Salary('n')\n",
        "a.p_upp()\n",
        "del a\n",
        "     "
      ],
      "metadata": {
        "id": "vj70uP_Pwzi3"
      },
      "execution_count": null,
      "outputs": []
    },
    {
      "cell_type": "markdown",
      "source": [
        "3. Создайте для класса «сотрудники» абстрактный метод начисления зарплаты.\n",
        "Создайте два класса-наследника: сотрудник отдела продаж и сотрудник склада. Для первого класса начисление происходит аналогично заданию 1, а для второго\n",
        "–в зависимости от количества отработанных дней. "
      ],
      "metadata": {
        "id": "MiQRRGkWw2Ud"
      }
    },
    {
      "cell_type": "code",
      "source": [
        "class trade_emp():\n",
        "    def __init__(self):\n",
        "        hello = input('Use standart options (Y/N)?: ').lower()\n",
        "        self.percent = 0.1\n",
        "        if hello == 'y':\n",
        "            self.salarys = 25000\n",
        "            self.work_days = 25\n",
        "            self.actual_days = 20\n",
        "            self.quantity_trades = 10000000\n",
        "        else:\n",
        "            try:\n",
        "                self.salarys = float(input('Enter variable salary of the month: '))\n",
        "                self.work_days = int(input('Enter quantity of work days in the month: '))\n",
        "                self.actual_days = int(input('Enter quantity of actual days worked: '))\n",
        "                self.quantity_trades = int(input('Enter quantity of trades in month: '))\n",
        "                assert self.salarys > 0 and self.work_days > 0 and self.actual_days > 0 and self.quantity_trades > 0\n",
        "            except:\n",
        "                print('Invalid input. Using standart options.')\n",
        "                self.salarys = 25000\n",
        "                self.work_days = 25\n",
        "                self.actual_days = 20\n",
        "                self.quantity_trades = 10000000\n",
        "\n",
        "        if (self.quantity_trades > 1200000):\n",
        "            self.percent = 0.1\n",
        "        else:\n",
        "            self.percent = 0.05\n",
        "\n",
        "    def p_upp1(self):\n",
        "        self.res = self.salarys / self.work_days * self.actual_days\n",
        "        \n",
        "        self.res += self.percent * self.res\n",
        "        print(self.res)\n",
        "        return self.res\n",
        "    def __del__(self):\n",
        "        print('Process deleted.')\n",
        "\n",
        "class storage_emp():\n",
        "    def __init__(self):\n",
        "        hello = input('Use standart options (Y/N)?: ').lower()\n",
        "        self.percent = 0.1\n",
        "        if hello == 'y':\n",
        "            self.salarys = 25000\n",
        "            self.work_days = 25\n",
        "            self.actual_days = 20\n",
        "        else:\n",
        "            try:\n",
        "                self.salarys = float(input('Enter variable salary of the month: '))\n",
        "                self.work_days = int(input('Enter quantity of work days in the month: '))\n",
        "                self.actual_days = int(input('Enter quantity of actual days worked: '))\n",
        "                assert self.salarys > 0 and self.work_days > 0 and self.actual_days > 0 and self.quantity_trades > 0\n",
        "            except:\n",
        "                print('Invalid input. Using standart options.')\n",
        "                self.salarys = 25000\n",
        "                self.work_days = 25\n",
        "                self.actual_days = 20\n",
        "\n",
        "    def p_upp2(self):\n",
        "        self.res = self.salarys / self.work_days * self.actual_days\n",
        "        print(self.res)\n",
        "        return self.res\n",
        "    def __del__(self):\n",
        "        print('Process deleted.')\n",
        "\n",
        "class Employees(trade_emp, storage_emp):\n",
        "    def set_name(self, name='Alex'):\n",
        "        self.name = name\n",
        "     \n",
        "\n",
        "a = Employees()\n",
        "print(a.salarys) # must print 25000 (if using standart options)\n",
        "print(a.actual_days) # must print 20 (if using standart options)\n",
        "a.p_upp2() # must print 20000 (if using standart options)\n",
        "a.p_upp1() # must print 22000 (if using standart options)\n",
        "del a"
      ],
      "metadata": {
        "id": "J6y4ODHuw4J9"
      },
      "execution_count": null,
      "outputs": []
    },
    {
      "cell_type": "markdown",
      "source": [
        "4. Решите предыдущую задачу, используя декоратор Sabstractmethod. Имеется\n",
        "класс «мебель». Создайте класс «корпусная мебель», «мягкая мебель» и\n",
        "«кухонная мебель». Определите атрибуты и методы родительского класса и\n",
        "классов-наследников. \n"
      ],
      "metadata": {
        "id": "dG30Sk_0w52b"
      }
    },
    {
      "cell_type": "code",
      "source": [
        "from abc import ABC, abstractmethod\n",
        "\n",
        "class cabinet_furniture():\n",
        "    def set_kind_cabinet(self, var='shelf'):\n",
        "        self.kind = var\n",
        "\n",
        "class soft_furniture():\n",
        "    def set_kind_soft(self, var='sofa'):\n",
        "        self.kind_s = var\n",
        "\n",
        "class kitchen_furniture():\n",
        "    def set_kind_kitchen(self, var='table'):\n",
        "        self.kind_k = var\n",
        "\n",
        "class Furniture(cabinet_furniture, soft_furniture, kitchen_furniture):\n",
        "    @abstractmethod\n",
        "    def set_company(self, company='OZON'):\n",
        "        self.company = company\n",
        "     \n",
        "\n",
        "print(\"cabinet_furniture:\\t\", list(filter(lambda x: \"__\" not in x, dir(cabinet_furniture))))\n",
        "print(\"soft_furniture:\\t\", list(filter(lambda x: \"__\" not in x, dir(soft_furniture))))\n",
        "print(\"kitchen_furniture:\\t\", list(filter(lambda x: \"__\" not in x, dir(kitchen_furniture))))\n",
        "print(\"Furniture:\\t\", list(filter(lambda x: \"__\" not in x, dir(Furniture))))\n",
        "print()"
      ],
      "metadata": {
        "id": "z0aJUVMKw6dZ"
      },
      "execution_count": null,
      "outputs": []
    },
    {
      "cell_type": "markdown",
      "source": [
        "5. Имеется класс «мебель». Создайте класс «корпусная мебель», «мягкая мебель»\n",
        "и «кухонная мебель». Определите атрибуты и методы родительского класса и\n",
        "классов-наследников. \n"
      ],
      "metadata": {
        "id": "OJRyLCn7w6qP"
      }
    },
    {
      "cell_type": "code",
      "source": [],
      "metadata": {
        "id": "Cv4ixCd2w685"
      },
      "execution_count": null,
      "outputs": []
    },
    {
      "cell_type": "markdown",
      "source": [
        "6. Создайте приложение, в котором необходимо разработать базовый класс man.\n",
        "Объекты этого класса содержат справочную информацию о конкретном\n",
        "человеке (фамилию, инициалы, телефон, адрес, возраст). Создайте два\n",
        "производных от него класса: manager и secretary. Объекты класса manager\n",
        "дополнительно включают номер отдела и количество подчиненных. Объекты\n",
        "класса manager дополнительно включают номер отдела и количество\n",
        "подчиненных. Объекты класса secretary дополнительно включают фамилию\n",
        "начальника. Данные о менеджерах и секретарях введите с клавиатуры и выведите\n",
        "на экран дисплея. \n"
      ],
      "metadata": {
        "id": "YQvjoA_ww-SB"
      }
    },
    {
      "cell_type": "code",
      "source": [
        "class Manager():\n",
        "    def __init__(self):\n",
        "        self.department_num = 'None'\n",
        "        self.state_quantity = 'None'\n",
        "    def set_dep_num(self, number):\n",
        "        self.department_num = number\n",
        "    def set_state_quantity(self, quantity):\n",
        "        self.state_quantity = quantity\n",
        "\n",
        "class Secretary():\n",
        "    def __init__(self):\n",
        "        self.chief_name = 'None'\n",
        "    def set_chief_name(self, name):\n",
        "        self.chief_name = name\n",
        "\n",
        "class Man(Manager, Secretary):\n",
        "    def __init__(self):\n",
        "        self.name = input('Enter name of the person: ')\n",
        "        self.surname = input('Enter surname of the person: ')\n",
        "        self.phone = input('Enter phone number: ')\n",
        "        self.adress = input('Input person`s adress: ')\n",
        "        self.age = int(input('Enter age of the person: '))\n",
        "    def set_name(self, names):\n",
        "        self.name = names\n",
        "    def set_surname(self, surnames):\n",
        "        self.surname = surnames\n",
        "    def set_phone(self, phone):\n",
        "        self.phone = phone\n",
        "    def set_adress(self, adress):\n",
        "        self.adress = adress\n",
        "    def set_age(self, age):\n",
        "        self.age = age\n",
        "     \n",
        "\n",
        "print(\"Man():\\t\", list(filter(lambda x: \"__\" not in x, dir(Man))))"
      ],
      "metadata": {
        "id": "BAWSX7Kdw-dL"
      },
      "execution_count": null,
      "outputs": []
    },
    {
      "cell_type": "markdown",
      "source": [
        "\n",
        "8. В программе рассчитываются площади треугольника и прямоугольника. С этой целью создается абстрактный класс area, в котором сохраняются две размерности фигуры.В производных классах задайте вид конкретных фигур и возвратите их площади"
      ],
      "metadata": {
        "id": "hR4QT6a5xDKj"
      }
    },
    {
      "cell_type": "code",
      "source": [
        "from math import sqrt\n",
        "\n",
        "class area():\n",
        "    a = 0\n",
        "    b = 0\n",
        "    c = 0\n",
        "    a1 = 0\n",
        "    b1 = 0\n",
        "    def set_triangle(self, a=0, b=0, c=0):\n",
        "        self.a = a\n",
        "        self.b = b\n",
        "        self.c = c\n",
        "        try:\n",
        "            assert self.a > 0 and self.b > 0 and self.c > 0\n",
        "        except:\n",
        "            print('Invalid input. Using standart options.')\n",
        "            self.a = 3\n",
        "            self.b = 4\n",
        "            self.c = 5\n",
        "\n",
        "    def set_square(self, a1=0, b1=0):\n",
        "        self.a1 = a1\n",
        "        self.b1 = b1\n",
        "        try:\n",
        "            assert self.a1 > 0 and self.b > 0\n",
        "        except:\n",
        "            print('Invalid input. Using standart options.')\n",
        "            self.a1 = 3\n",
        "\n",
        "class calculating(area):\n",
        "    def calculate_triangle_area(self):\n",
        "        if self.a != 0 and self.b != 0 and self.c != 0:\n",
        "            p = (self.a + self.b + self.c) / 2\n",
        "            s_triangle = sqrt(p*(p-self.a)*(p-self.b)*(p-self.c))\n",
        "            print(s_triangle)\n",
        "        else:\n",
        "            print('Use *.set_triangle first.')\n",
        "    \n",
        "    def calculate_square_area(self):\n",
        "        if self.a1 != 0 and self.b1 != 0:\n",
        "            s_square = self.a1 * self.b1\n",
        "            print(s_square)\n",
        "        else:\n",
        "            print('Use *.set_square first.')\n",
        "     \n",
        "\n",
        "c = calculating()\n",
        "c.set_triangle(3,4,5)\n",
        "c.calculate_triangle_area()\n",
        "\n",
        "\n",
        "c1 = calculating()\n",
        "c1.set_square(3, 4)\n",
        "c1.calculate_square_area()\n",
        "     "
      ],
      "metadata": {
        "id": "R5Q4jhuwxDVx"
      },
      "execution_count": null,
      "outputs": []
    }
  ]
}