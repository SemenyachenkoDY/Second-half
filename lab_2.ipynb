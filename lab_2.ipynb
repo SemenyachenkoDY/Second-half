{
  "nbformat": 4,
  "nbformat_minor": 0,
  "metadata": {
    "colab": {
      "provenance": [],
      "authorship_tag": "ABX9TyM3J/kDzKAxC02uqjKx/hhB",
      "include_colab_link": true
    },
    "kernelspec": {
      "name": "python3",
      "display_name": "Python 3"
    },
    "language_info": {
      "name": "python"
    }
  },
  "cells": [
    {
      "cell_type": "markdown",
      "metadata": {
        "id": "view-in-github",
        "colab_type": "text"
      },
      "source": [
        "<a href=\"https://colab.research.google.com/github/SemenyachenkoDY/Second-half/blob/main/lab_2.ipynb\" target=\"_parent\"><img src=\"https://colab.research.google.com/assets/colab-badge.svg\" alt=\"Open In Colab\"/></a>"
      ]
    },
    {
      "cell_type": "markdown",
      "source": [
        "В рамках приложения разработать класс В – наследник класса А (задание\n",
        "2) с полем d и свойством с2. Свойство с2 – результат вычисления\n",
        "выражения над полями a, b, d. В теле свойства использовать управляющий\n",
        "оператор (см. вариант в таблице 2.2). У класса А создать конструктор,\n",
        "инициализирующий его поля. Для класса В определить 2 конструктора:\n",
        "один – наследуется от конструктора класса А, второй – собственный. В\n",
        "теле программы создать объекты классов А и В, продемонстрировав\n",
        "работу всех конструкторов. Вывести значения свойства на экран."
      ],
      "metadata": {
        "id": "hs_PmbjSv3WL"
      }
    },
    {
      "cell_type": "code",
      "execution_count": 14,
      "metadata": {
        "id": "YbHJX_frbvs1",
        "colab": {
          "base_uri": "https://localhost:8080/"
        },
        "outputId": "be918a03-8e14-42bd-f9e3-1796bb301614"
      },
      "outputs": [
        {
          "output_type": "stream",
          "name": "stdout",
          "text": [
            "-2\n"
          ]
        }
      ],
      "source": [
        "class A:\n",
        "  a = int()\n",
        "  b = int()\n",
        "  def __init__(self, a, b):\n",
        "    self.a = a\n",
        "    self.b = b\n",
        "\n",
        "class B(A):\n",
        "  d = int()\n",
        "  def __init__(self, a, b, d):\n",
        "    super().__init__(a, b)\n",
        "    self.d = d\n",
        "    \n",
        "  def __init__(self, a, b):\n",
        "    super().__init__(a, b)\n",
        "    self.d = 0\n",
        "\n",
        "  def c2(self):\n",
        "    if self.a > self.b:\n",
        "      return self.a + self.b + self.d\n",
        "    elif self.a < self.b:\n",
        "      return self.a - self.b + self.d\n",
        "    else:\n",
        "      return self.a * self.b + self.d\n",
        "\n",
        "\n",
        "n2 = B(3, 5,)\n",
        "print(n2.c2())"
      ]
    },
    {
      "cell_type": "markdown",
      "source": [
        "#Упражнения для всех вариантов\n"
      ],
      "metadata": {
        "id": "9w7UBeDvwuFb"
      }
    },
    {
      "cell_type": "markdown",
      "source": [
        "1. Создайте класс «зарплата», который вычисляет сумму зарплаты в зависимости\n",
        "от тарифной ставки и числа отработанных дней. Расширьте метод начислением\n",
        "процентов в зависимости от объема продаж. "
      ],
      "metadata": {
        "id": "zx4dOTORwwES"
      }
    },
    {
      "cell_type": "code",
      "source": [
        "try:\n",
        "  class Salary:\n",
        "    def __init__(self, rate, days):\n",
        "      self.days = days\n",
        "      self.rate = rate\n",
        "    \n",
        "    def calculate(self, sales):\n",
        "      salary = self.rate * self.days\n",
        "      salary = salary + (sales * 0.1)\n",
        "      return salary\n",
        "  m = Salary(1000, 20)\n",
        "  print(\"Salary with sales:\", m.calculate(5000))\n",
        "except Exception:\n",
        "  print('Любая ошибка!')"
      ],
      "metadata": {
        "colab": {
          "base_uri": "https://localhost:8080/"
        },
        "id": "M-6p8KEhwwj6",
        "outputId": "a8741853-bf45-4d78-a179-2348f552597d"
      },
      "execution_count": 9,
      "outputs": [
        {
          "output_type": "stream",
          "name": "stdout",
          "text": [
            "Salary with sales: 20500.0\n"
          ]
        }
      ]
    },
    {
      "cell_type": "markdown",
      "source": [
        "2. Переопределите метод начисления зарплаты: в случае, если объем продаж в\n",
        "месяц превысил 1 000 000, проценты добавляются к зарплате, в противном\n",
        "случае – вычитаются. "
      ],
      "metadata": {
        "id": "Zw5kNonOwzU3"
      }
    },
    {
      "cell_type": "code",
      "source": [
        "class Salary:\n",
        "  def __init__(self, rate, days, sales):\n",
        "    self.rate = rate\n",
        "    self.days = days\n",
        "    self.sales = sales\n",
        "\n",
        "  def calculate_salary(self):\n",
        "    base_salary = self.rate * self.days\n",
        "    bonus = self.sales * 0.01\n",
        "    if self.sales > 1000000:\n",
        "      total_salary = base_salary + bonus\n",
        "    else:\n",
        "      total_salary = base_salary - bonus\n",
        "    return total_salary\n",
        "m = Salary(200, 5,  1000001)\n",
        "print(m.calculate_salary())\n",
        "     "
      ],
      "metadata": {
        "id": "vj70uP_Pwzi3",
        "colab": {
          "base_uri": "https://localhost:8080/"
        },
        "outputId": "ada403b4-4f08-461d-b43d-566cd6fb5f94"
      },
      "execution_count": 8,
      "outputs": [
        {
          "output_type": "stream",
          "name": "stdout",
          "text": [
            "11000.01\n"
          ]
        }
      ]
    },
    {
      "cell_type": "markdown",
      "source": [
        "3.Создайте для класса «сотрудники» абстрактный метод начисления зарплаты.\n",
        "Создайте два класса-наследника: сотрудник отдела продаж и сотрудник склада.Для первого класса начисление происходит аналогично заданию 1, а для второго –в зависимости от количества отработанных дней."
      ],
      "metadata": {
        "id": "E9oAzvJV_qLn"
      }
    },
    {
      "cell_type": "code",
      "source": [
        "from abc import ABC, abstractmethod\n",
        "\n",
        "class Employee(ABC):\n",
        "  def __init__(self, name, rate):\n",
        "    self.name = name\n",
        "    self.rate = rate\n",
        "\n",
        "  @abstractmethod\n",
        "  def calculate_salary(self):\n",
        "    pass\n",
        "\n",
        "class FirstEmployee(Employee):\n",
        "  def __init__(self, name, rate, sales_volume):\n",
        "    super().__init__(name, rate)\n",
        "    self.sales_volume = sales_volume\n",
        "\n",
        "  def calculate_salary(self, days_worked):\n",
        "    salary = self.rate * days_worked\n",
        "    if self.sales_volume > 1000000:\n",
        "      salary += salary * 0.1\n",
        "    else:\n",
        "      salary -= salary * 0.1\n",
        "    return salary\n",
        "\n",
        "class SecondEmployee(Employee):\n",
        "  def __init__(self, name, rate, days_worked):\n",
        "    super().__init__(name, rate)\n",
        "    self.days_worked = days_worked\n",
        "\n",
        "  def calculate_salary(self):\n",
        "    return self.rate * self.days_worked\n",
        "m = FirstEmployee(\"John\", 100, 1200000)\n",
        "print(m.calculate_salary(20))\n",
        "n =SecondEmployee(\"Mike\", 80, 22)\n",
        "print(n.calculate_salary()) "
      ],
      "metadata": {
        "colab": {
          "base_uri": "https://localhost:8080/"
        },
        "id": "rEDuMZYq_qd-",
        "outputId": "7ea0df87-9170-4522-95cc-4b2ca8b0bbf5"
      },
      "execution_count": 13,
      "outputs": [
        {
          "output_type": "stream",
          "name": "stdout",
          "text": [
            "2200.0\n",
            "1760\n"
          ]
        }
      ]
    },
    {
      "cell_type": "markdown",
      "source": [
        "5.Имеется класс «мебель». Создайте класс «корпусная мебель», «мягкая мебель»\n",
        "и «кухонная мебель». Определите атрибуты и методы родительского класса и классов-наследников."
      ],
      "metadata": {
        "id": "dS2POk7J_u49"
      }
    },
    {
      "cell_type": "code",
      "source": [
        "from abc import ABC, abstractmethod\n",
        "\n",
        "class Furniture(ABC):\n",
        "  @abstractmethod\n",
        "  def get_type(self):\n",
        "    pass\n",
        "\n",
        "  @abstractmethod\n",
        "  def get_material(self):\n",
        "    pass\n",
        "\n",
        "class FurnitureCorporeal(Furniture):\n",
        "  def __init__(self, material, color):\n",
        "    self.material = material\n",
        "    self.color = color\n",
        "\n",
        "  def get_type(self):\n",
        "    return \"Корпусная мебель\"\n",
        "\n",
        "  def get_material(self):\n",
        "    return f\"{self.material} ({self.color})\"\n",
        "\n",
        "class FurnitureSoft(Furniture):\n",
        "  def __init__(self, material, color, cushion_type):\n",
        "    self.material = material\n",
        "    self.color = color\n",
        "    self.cushion_type = cushion_type\n",
        "\n",
        "  def get_type(self):\n",
        "    return \"Мягкая мебель\"\n",
        "\n",
        "  def get_material(self):\n",
        "    return f\"{self.material} ({self.color}), тип подушек: {self.cushion_type}\"\n",
        "\n",
        "class FurnitureKitchen(Furniture):\n",
        "  def __init__(self, material, color, style):\n",
        "    self.material = material\n",
        "    self.color = color\n",
        "    self.style = style\n",
        "\n",
        "  def get_type(self):\n",
        "    return \"Кухонная мебель\"\n",
        "\n",
        "  def get_material(self):\n",
        "    return f\"{self.material} ({self.color}), стиль: {self.style}\"\n",
        "\n",
        "m = FurnitureCorporeal(\"Дерево\", \"Коричневый\")\n",
        "n = FurnitureSoft(\"Ткань\", \"Синий\", \"Синтепух\")\n",
        "l = FurnitureKitchen(\"Пластик\", \"Белый\", \"Модерн\")\n",
        "\n",
        "# Вывод информации о мебели\n",
        "print(m.get_type())\n",
        "print(m.get_material())\n",
        "\n",
        "print(n.get_type())\n",
        "print(n.get_material())\n",
        "\n",
        "print(l.get_type())\n",
        "print(l.get_material())"
      ],
      "metadata": {
        "colab": {
          "base_uri": "https://localhost:8080/"
        },
        "id": "GihuvtNZ_wFO",
        "outputId": "089bfd34-6483-487c-f015-6ed7cf62925c"
      },
      "execution_count": 12,
      "outputs": [
        {
          "output_type": "stream",
          "name": "stdout",
          "text": [
            "Корпусная мебель\n",
            "Дерево (Коричневый)\n",
            "Мягкая мебель\n",
            "Ткань (Синий), тип подушек: Синтепух\n",
            "Кухонная мебель\n",
            "Пластик (Белый), стиль: Модерн\n"
          ]
        }
      ]
    },
    {
      "cell_type": "markdown",
      "source": [
        "6. Создайте приложение, в котором необходимо разработать базовый класс man.\n",
        "Объекты этого класса содержат справочную информацию о конкретном\n",
        "человеке (фамилию, инициалы, телефон, адрес, возраст). Создайте два\n",
        "производных от него класса: manager и secretary. Объекты класса manager\n",
        "дополнительно включают номер отдела и количество подчиненных. Объекты\n",
        "класса manager дополнительно включают номер отдела и количество\n",
        "подчиненных. Объекты класса secretary дополнительно включают фамилию\n",
        "начальника. Данные о менеджерах и секретарях введите с клавиатуры и выведите\n",
        "на экран дисплея. \n"
      ],
      "metadata": {
        "id": "YQvjoA_ww-SB"
      }
    },
    {
      "cell_type": "code",
      "source": [
        "class Man:\n",
        "  def __init__(self, surname, initials, phone, address, age):\n",
        "    self.surname = surname\n",
        "    self.initials = initials\n",
        "    self.phone = phone\n",
        "    self.address = address\n",
        "    self.age = age\n",
        "\n",
        "class Manager(Man):\n",
        "  def __init__(self, surname, initials, phone, address, age, department_number, subordinates_count):\n",
        "    super().__init__(surname, initials, phone, address, age)\n",
        "    self.department_number = department_number\n",
        "    self.subordinates_count = subordinates_count\n",
        "\n",
        "class Secretary(Man):\n",
        "  def __init__(self, surname, initials, phone, address, age, boss_surname):\n",
        "    super().__init__(surname, initials, phone, address, age)\n",
        "    self.boss_surname = boss_surname\n",
        "\n",
        "surname = input(\"Введите фамилию: \")\n",
        "initials = input(\"Введите инициалы: \")\n",
        "phone = input(\"Введите телефон: \")\n",
        "address = input(\"Введите адрес: \")\n",
        "age = input(\"Введите возраст: \")\n",
        "\n",
        "department_number = input(\"Введите номер отдела (только для менеджера): \")\n",
        "subordinates_count = input(\"Введите количество подчиненных (только для менеджера): \")\n",
        "boss_surname = input(\"Введите фамилию начальника (только для секретаря): \")\n",
        "\n",
        "\n",
        "if department_number and subordinates_count:\n",
        "    man = Manager(surname, initials, phone, address, age, department_number, subordinates_count)\n",
        "elif boss_surname:\n",
        "    man = Secretary(surname, initials, phone, address, age, boss_surname)\n",
        "else:\n",
        "    man = Man(surname, initials, phone, address, age)\n",
        "\n",
        "\n",
        "print(\"Фамилия:\", man.surname)\n",
        "print(\"Инициалы:\", man.initials)\n",
        "print(\"Телефон:\", man.phone)\n",
        "print(\"Адрес:\", man.address)\n",
        "print(\"Возраст:\", man.age)\n",
        "\n",
        "if isinstance(man, Manager):\n",
        "    print(\"Номер отдела:\", man.department_number)\n",
        "    print(\"Количество подчиненных:\", man.subordinates_count)\n",
        "elif isinstance(man, Secretary):\n",
        "    print(\"Фамилия начальника:\", man.boss_surname)\n",
        "     "
      ],
      "metadata": {
        "id": "BAWSX7Kdw-dL",
        "colab": {
          "base_uri": "https://localhost:8080/"
        },
        "outputId": "94fb6f74-31d5-4c40-cde3-b026290dee4c"
      },
      "execution_count": 10,
      "outputs": [
        {
          "output_type": "stream",
          "name": "stdout",
          "text": [
            "Введите фамилию: aaa\n",
            "Введите инициалы: ffff\n",
            "Введите телефон: 777777777\n",
            "Введите адрес: fkfkf\n",
            "Введите возраст: 20\n",
            "Введите номер отдела (только для менеджера): \n",
            "Введите количество подчиненных (только для менеджера): \n",
            "Введите фамилию начальника (только для секретаря): aaaaa\n",
            "Фамилия: aaa\n",
            "Инициалы: ffff\n",
            "Телефон: 777777777\n",
            "Адрес: fkfkf\n",
            "Возраст: 20\n",
            "Фамилия начальника: aaaaa\n"
          ]
        }
      ]
    },
    {
      "cell_type": "markdown",
      "source": [
        "\n",
        "8. В программе рассчитываются площади треугольника и прямоугольника. С этой целью создается абстрактный класс area, в котором сохраняются две размерности фигуры.В производных классах задайте вид конкретных фигур и возвратите их площади"
      ],
      "metadata": {
        "id": "hR4QT6a5xDKj"
      }
    },
    {
      "cell_type": "code",
      "source": [
        "from abc import ABC, abstractmethod\n",
        "\n",
        "class Area(ABC):\n",
        "    def __init__(self, length, width):\n",
        "        self.length = length\n",
        "        self.width = width\n",
        "    \n",
        "    @abstractmethod\n",
        "    def get_area(self):\n",
        "        pass\n",
        "\n",
        "class Triangle(Area):\n",
        "    def get_area(self):\n",
        "        return 0.5 * self.length * self.width\n",
        "\n",
        "class Rectangle(Area):\n",
        "    def get_area(self):\n",
        "        return self.length * self.width\n",
        "\n",
        "# Пример использования\n",
        "t = Triangle(10, 5)\n",
        "print(\"Площадь треугольника: \", t.get_area())\n",
        "\n",
        "r = Rectangle(8, 6)\n",
        "print(\"Площадь прямоугольника: \", r.get_area())\n",
        "\n",
        "\n",
        "     \n",
        "     "
      ],
      "metadata": {
        "id": "R5Q4jhuwxDVx",
        "colab": {
          "base_uri": "https://localhost:8080/"
        },
        "outputId": "f6280790-27e5-4bc1-835b-83e890405d5d"
      },
      "execution_count": 11,
      "outputs": [
        {
          "output_type": "stream",
          "name": "stdout",
          "text": [
            "Площадь треугольника:  25.0\n",
            "Площадь прямоугольника:  48\n"
          ]
        }
      ]
    }
  ]
}