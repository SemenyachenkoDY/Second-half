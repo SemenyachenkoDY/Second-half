{
  "nbformat": 4,
  "nbformat_minor": 0,
  "metadata": {
    "colab": {
      "provenance": [],
      "authorship_tag": "ABX9TyNlh77qMDBSOCeHgNTA9Xru",
      "include_colab_link": true
    },
    "kernelspec": {
      "name": "python3",
      "display_name": "Python 3"
    },
    "language_info": {
      "name": "python"
    }
  },
  "cells": [
    {
      "cell_type": "markdown",
      "metadata": {
        "id": "view-in-github",
        "colab_type": "text"
      },
      "source": [
        "<a href=\"https://colab.research.google.com/github/SemenyachenkoDY/Second-half/blob/main/1_3.ipynb\" target=\"_parent\"><img src=\"https://colab.research.google.com/assets/colab-badge.svg\" alt=\"Open In Colab\"/></a>"
      ]
    },
    {
      "cell_type": "markdown",
      "source": [
        "# №1.3.1 \n",
        "Создайте для класса «студент» функцию, которая считает средний\n",
        "балл по трем дисциплинам, оценки по которым вводятся пользователям.\n",
        "Реализуйте программу двумя способами: без использования\n",
        "конструктора __init__ и с ним. \n"
      ],
      "metadata": {
        "id": "4Sv2QZUh7W6p"
      }
    },
    {
      "cell_type": "code",
      "execution_count": 29,
      "metadata": {
        "colab": {
          "base_uri": "https://localhost:8080/"
        },
        "id": "TVXMy8z14yTK",
        "outputId": "6ff5e82d-eb60-4891-dfc2-f679b0fbc1a9"
      },
      "outputs": [
        {
          "output_type": "stream",
          "name": "stdout",
          "text": [
            "Введите дисциплину: Математика\n",
            "Введите оценку: 5\n",
            "Введите дисциплину: математика\n",
            "Введите оценку: 3\n",
            "Введите дисциплину: русский \n",
            "Введите оценку: 5\n",
            "Проверьте введенные данные\n"
          ]
        }
      ],
      "source": [
        "#есть инициализация\n",
        "try:\n",
        "  s1 = input('Введите дисциплину: ')\n",
        "  s1 = s1.lower()\n",
        "  d1 = int(input('Введите оценку: '))\n",
        "  s2 = input('Введите дисциплину: ')\n",
        "  s2 = s2.lower()\n",
        "  d2 = int(input('Введите оценку: '))\n",
        "  s3 = input('Введите дисциплину: ')\n",
        "  s3 = s3.lower()\n",
        "  d3 = int(input('Введите оценку: '))\n",
        "except ValueError:\n",
        "  print(\"Проверьте данные\")\n",
        "\n",
        "\n",
        "class Student:\n",
        "\n",
        "  def __init__(self, __a, __b, __c):\n",
        "    self.s1 = d1\n",
        "    self.s2 = d2\n",
        "    self.s3 = d3\n",
        "    \n",
        "  def avg(self):\n",
        "    s=((self.s1+ self.s2+ self.s3)/3)\n",
        "    return s\n",
        "    \n",
        "  def __del__(self):\n",
        "    print(\"Процесс удален\")\n",
        "if s1 != s2 != s3:\n",
        "  a = Student(d1, d2, d3)\n",
        "  print('Средний балл по 3 дисциплинам: ',a.avg())\n",
        "else:\n",
        "  print('Проверьте введенные данные')\n"
      ]
    },
    {
      "cell_type": "code",
      "source": [
        "#без инициализации\n",
        "a = int(input(\"первая оценка: \"))\n",
        "b = int(input(\"вторая оценка: \"))\n",
        "c = int(input(\"третья оценка: \"))\n",
        "class Student:\n",
        "    fm=a\n",
        "    sm=b\n",
        "    tm=c\n",
        "\n",
        "def avg(a, b , c):\n",
        "  s =(a + b + c)/3\n",
        "  return s\n",
        "\n",
        "print(\"Средняя оценка \", avg(a, b, c))\n",
        "\n"
      ],
      "metadata": {
        "colab": {
          "base_uri": "https://localhost:8080/"
        },
        "id": "-e59pd965DD3",
        "outputId": "1806e444-b890-49fa-a0c9-8fa6e2beee75"
      },
      "execution_count": null,
      "outputs": [
        {
          "output_type": "stream",
          "name": "stdout",
          "text": [
            "первая оценка: 3\n",
            "вторая оценка: 4\n",
            "третья оценка: 5\n",
            "Средняя оценка  4.0\n"
          ]
        }
      ]
    },
    {
      "cell_type": "markdown",
      "source": [
        "#№1.3.2 and 1.3.3\n",
        "Создайте функцию, которая считает и выводит в файл заработную\n",
        "плату сотрудника склада в зависимости от количества отработанных дней в\n",
        "месяце. Оклад является защищаемым атрибутом класса «сотрудник». \n"
      ],
      "metadata": {
        "id": "Scv8TlRG7cYD"
      }
    },
    {
      "cell_type": "code",
      "source": [
        "class Employee:\n",
        "    try:\n",
        "      __oklad = float(input('Введите заработную плату: '))\n",
        "      work_days = int(input('Введите кол-во рабочих дней в месяце: '))\n",
        "      fact_work = int(input('Введите фактическое кол-во отработанных дней: '))\n",
        "      res = 0\n",
        "    except ValueError:\n",
        "      print(\"Проверьте данные \")\n",
        "    def act_salary(self):\n",
        "        self.res = self.__oklad / self.work_days * self.fact_work\n",
        "        a = open('salary', 'w') \n",
        "        a.write('Salary = ' + str(self.res) + '\\n') \n",
        "        a.close()\n",
        "        print('Код выполнен.Файл сохранен.')\n",
        "        return self.res\n",
        "\n",
        "    def award(self):\n",
        "        i = self.act_salary()\n",
        "        self.res += (self.res * 0.01)\n",
        "        a = open('salary', 'a')\n",
        "        a.write('Salary + award = ' + str(self.res) + '\\n')\n",
        "        a.close()\n",
        "    \n",
        "    def __del__(self):\n",
        "        print('Процесс удален.')\n",
        "\n",
        "if __name__ == \"__main__\":\n",
        "    c = Employee()\n",
        "    c.award()\n",
        "    del c"
      ],
      "metadata": {
        "id": "jHtyp2mH7hJ8",
        "colab": {
          "base_uri": "https://localhost:8080/"
        },
        "outputId": "cdfe9b1f-ffcd-4be2-cbe2-6c052621c820"
      },
      "execution_count": 24,
      "outputs": [
        {
          "output_type": "stream",
          "name": "stdout",
          "text": [
            "Введите заработную плату: 20000\n",
            "Введите кол-во рабочих дней в месяце: 25\n",
            "Введите фактическое кол-во отработанных дней: 25\n",
            "Код выполнен.Файл сохранен.\n",
            "Процесс удален.\n"
          ]
        }
      ]
    },
    {
      "cell_type": "markdown",
      "source": [
        "#№1.3.5\n",
        "Используя технологию перегрузки операторов, измените\n",
        "__truediv__(деление) так, чтобы числителем был знаменатель и наоборот.\n",
        "Аналогичные процедуры осуществите для операторов\n",
        "__floordiv__(целочисленное деление), __mod__(остаток от деления). Числа\n",
        "вводят пользователи. Предусмотрите отработку исключений. \n"
      ],
      "metadata": {
        "id": "OiZosJAGn0OV"
      }
    },
    {
      "cell_type": "code",
      "source": [
        "class A():\n",
        "    def __init__(self, a):\n",
        "        self.q = float(a)\n",
        "    def __truediv__(self, y):\n",
        "        return y / self.q\n",
        "    def __floordiv__(self, c):\n",
        "        return int(c // self.q)\n",
        "    def __mod__(self, z):\n",
        "        return int(z % self.q)\n",
        "    \n",
        "try:\n",
        "  x = A(int(input()))\n",
        "  b = int(input())\n",
        "  print(x / b) # 0.42\n",
        "  print(x // b) # 1\n",
        "  print(x % b) # 3\n",
        "except ZeroDivisionError and ValueError:\n",
        "  print(\"Проверьте введенные данные\")\n"
      ],
      "metadata": {
        "colab": {
          "base_uri": "https://localhost:8080/"
        },
        "id": "EFl0FcLpnw0R",
        "outputId": "d2832e98-77ae-4162-bf71-ce4675b22a7b"
      },
      "execution_count": 19,
      "outputs": [
        {
          "output_type": "stream",
          "name": "stdout",
          "text": [
            "3\n",
            "a\n",
            "Проверьте введенные данные\n"
          ]
        }
      ]
    },
    {
      "cell_type": "code",
      "source": [],
      "metadata": {
        "id": "aPGAQE3HPGng"
      },
      "execution_count": null,
      "outputs": []
    }
  ]
}