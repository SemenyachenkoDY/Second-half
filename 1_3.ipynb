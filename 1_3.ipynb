{
  "nbformat": 4,
  "nbformat_minor": 0,
  "metadata": {
    "colab": {
      "provenance": [],
      "authorship_tag": "ABX9TyPW5vpwNbayQsPz2ayiOqd2",
      "include_colab_link": true
    },
    "kernelspec": {
      "name": "python3",
      "display_name": "Python 3"
    },
    "language_info": {
      "name": "python"
    }
  },
  "cells": [
    {
      "cell_type": "markdown",
      "metadata": {
        "id": "view-in-github",
        "colab_type": "text"
      },
      "source": [
        "<a href=\"https://colab.research.google.com/github/SemenyachenkoDY/Second-half/blob/main/1_3.ipynb\" target=\"_parent\"><img src=\"https://colab.research.google.com/assets/colab-badge.svg\" alt=\"Open In Colab\"/></a>"
      ]
    },
    {
      "cell_type": "markdown",
      "source": [
        "# №1.3.1 \n",
        "Создайте для класса «студент» функцию, которая считает средний\n",
        "балл по трем дисциплинам, оценки по которым вводятся пользователям.\n",
        "Реализуйте программу двумя способами: без использования\n",
        "конструктора__init__и с ним. \n"
      ],
      "metadata": {
        "id": "4Sv2QZUh7W6p"
      }
    },
    {
      "cell_type": "code",
      "execution_count": null,
      "metadata": {
        "colab": {
          "base_uri": "https://localhost:8080/"
        },
        "id": "TVXMy8z14yTK",
        "outputId": "4383e683-311e-4ccb-b7ee-45b4fc502dd9"
      },
      "outputs": [
        {
          "output_type": "stream",
          "name": "stdout",
          "text": [
            "4\n",
            "3\n",
            "2\n",
            "AVG: 3.0\n",
            "Process deleted\n"
          ]
        }
      ],
      "source": [
        "#есть инициализация\n",
        "a=int(input())\n",
        "b=int(input())\n",
        "c=int(input())\n",
        "class Student:\n",
        "    def __init__(self, __a, __b, __c):\n",
        "        self.a = __a\n",
        "        self.b = __b\n",
        "        self.c = __c\n",
        "    \n",
        "    def avg(self):\n",
        "        s=((self.a+ self.b+ self.c)/3)\n",
        "        return s\n",
        "    \n",
        "    def __del__(self):\n",
        "        print(\"Process deleted\")\n",
        "\n",
        "x=Student(a, b, c)\n",
        "print(f'AVG: {x.avg()}')"
      ]
    },
    {
      "cell_type": "code",
      "source": [
        "#без инициализации\n",
        "a = int(input(\"первая оценка: \"))\n",
        "b = int(input(\"вторая оценка: \"))\n",
        "c = int(input(\"третья оценка: \"))\n",
        "class Student:\n",
        "    fm=a\n",
        "    sm=b\n",
        "    tm=c\n",
        "\n",
        "def avg(a, b , c):\n",
        "  s =(a + b + c)/3\n",
        "  return s\n",
        "\n",
        "print(\"Средняя оценка \", avg(a, b, c))\n",
        "\n"
      ],
      "metadata": {
        "colab": {
          "base_uri": "https://localhost:8080/"
        },
        "id": "-e59pd965DD3",
        "outputId": "e80e3fc2-8c2a-431f-f5f8-6eb258fb59f5"
      },
      "execution_count": null,
      "outputs": [
        {
          "output_type": "stream",
          "name": "stdout",
          "text": [
            "первая оценка: 5\n",
            "вторая оценка: 3\n",
            "третья оценка: 4\n",
            "Средняя оценка  4.0\n"
          ]
        }
      ]
    },
    {
      "cell_type": "markdown",
      "source": [
        "#№1.3.2 and 1.3.3\n",
        "Создайте функцию, которая считает и выводит в файл заработную\n",
        "плату сотрудника склада в зависимости от количества отработанных дней в\n",
        "месяце. Оклад является защищаемым атрибутом класса «сотрудник». \n"
      ],
      "metadata": {
        "id": "Scv8TlRG7cYD"
      }
    },
    {
      "cell_type": "code",
      "source": [
        "class Employee:\n",
        "    __oklad = float(input('Введите заработную плату: '))\n",
        "    work_days = int(input('Введите кол-во рабочих дней в месяце: '))\n",
        "    fact_work = int(input('Введите фактическое кол-во отработанных дней: '))\n",
        "    res = 0\n",
        "    def act_salary(self):\n",
        "        self.res = self.__oklad / self.work_days * self.fact_work\n",
        "        a = open('salary', 'w') # Открывает новый файл для записи в него\n",
        "        a.write('Salary = ' + str(self.res) + '\\n') #Записывает данные\n",
        "        a.close()\n",
        "        print('Code done. File saved.')\n",
        "        return self.res\n",
        "\n",
        "    def award(self):\n",
        "        i = self.act_salary()\n",
        "        self.res += (self.res * 0.01)\n",
        "        a = open('salary', 'a')\n",
        "        a.write('Salary + award = ' + str(self.res) + '\\n')\n",
        "        a.close()\n",
        "    \n",
        "    def __del__(self):\n",
        "        print('Process deleted.')\n",
        "\n",
        "if __name__ == \"__main__\":\n",
        "    c = Employee()\n",
        "    c.award()\n",
        "    del c"
      ],
      "metadata": {
        "id": "jHtyp2mH7hJ8",
        "colab": {
          "base_uri": "https://localhost:8080/"
        },
        "outputId": "98da6d87-5a3f-4a53-f46b-2f9227ecbd8f"
      },
      "execution_count": null,
      "outputs": [
        {
          "output_type": "stream",
          "name": "stdout",
          "text": [
            "Введите заработную плату: 25000\n",
            "Введите кол-во рабочих дней в месяце: 20\n",
            "Введите фактическое кол-во отработанных дней: 10\n",
            "Code done. File saved.\n",
            "Process deleted.\n"
          ]
        }
      ]
    },
    {
      "cell_type": "markdown",
      "source": [
        "#№1.3.5\n",
        "Используя технологию перегрузки операторов, измените\n",
        "__truediv__(деление) так, чтобы числителем был знаменатель и наоборот.\n",
        "Аналогичные процедуры осуществите для операторов\n",
        "__floordiv__(целочисленное деление), __mod__(остаток от деления). Числа\n",
        "вводят пользователи. Предусмотрите отработку исключений. \n"
      ],
      "metadata": {
        "id": "OiZosJAGn0OV"
      }
    },
    {
      "cell_type": "code",
      "source": [
        "class Human():\n",
        "    def __init__(self, a):\n",
        "        self.q = float(a)\n",
        "    def __truediv__(self, b):\n",
        "        return b / self.q\n",
        "    def __floordiv__(self, c):\n",
        "        return int(c // self.q)\n",
        "    def __mod__(self, z):\n",
        "        return int(z % self.q)\n",
        "    \n",
        "\n",
        "x = Human(7)\n",
        "\n",
        "print(x / 3) # 0.42\n",
        "print(x // 13) # 1\n",
        "print(x % 10) # 3\n",
        "     "
      ],
      "metadata": {
        "colab": {
          "base_uri": "https://localhost:8080/"
        },
        "id": "EFl0FcLpnw0R",
        "outputId": "b251e84d-dc70-464a-dd7c-3d2d42f40dce"
      },
      "execution_count": 1,
      "outputs": [
        {
          "output_type": "stream",
          "name": "stdout",
          "text": [
            "0.42857142857142855\n",
            "1\n",
            "3\n"
          ]
        }
      ]
    }
  ]
}