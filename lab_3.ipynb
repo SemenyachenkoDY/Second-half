{
  "nbformat": 4,
  "nbformat_minor": 0,
  "metadata": {
    "colab": {
      "provenance": [],
      "authorship_tag": "ABX9TyOFscVipRhExhwZAQLu66V7",
      "include_colab_link": true
    },
    "kernelspec": {
      "name": "python3",
      "display_name": "Python 3"
    },
    "language_info": {
      "name": "python"
    }
  },
  "cells": [
    {
      "cell_type": "markdown",
      "metadata": {
        "id": "view-in-github",
        "colab_type": "text"
      },
      "source": [
        "<a href=\"https://colab.research.google.com/github/SemenyachenkoDY/Second-half/blob/main/lab_3.ipynb\" target=\"_parent\"><img src=\"https://colab.research.google.com/assets/colab-badge.svg\" alt=\"Open In Colab\"/></a>"
      ]
    },
    {
      "cell_type": "markdown",
      "source": [
        "#Вариант 17\n",
        "Описать класс, представляющий нелинейное уравнение вида ах - cos(x) = 0. Описать метод, вычисляющий решение этого уравнения на заданном\n",
        "интервале методом деления пополам (см. раздел «Цикл с параметром for») и\n",
        "выбрасывающий исключение в случае отсутствия корня. Описать свойства для\n",
        "получения состояния объекта.\n",
        "Написать программу, демонстрирующую все разработанные элементы класса. \n",
        "\n",
        "\n",
        "\n",
        "\n"
      ],
      "metadata": {
        "id": "WJT0rx4l_IB6"
      }
    },
    {
      "cell_type": "code",
      "source": [
        "import math\n",
        "\n",
        "class NonlinearEquation:\n",
        "  def __init__(self, a, left, right, eps):\n",
        "    self.a = a\n",
        "    self.left = left\n",
        "    self.right = right\n",
        "    self.eps = eps\n",
        "    self.root = None\n",
        "\n",
        "  def solve(self):\n",
        "    f_left = self.a * self.left - math.cos(self.left)\n",
        "    f_right = self.a * self.right - math.cos(self.right)\n",
        "\n",
        "    if f_left * f_right > 0:\n",
        "      raise Exception(\"No root found in given interval\")\n",
        "\n",
        "    while abs(self.right - self.left) > self.eps:\n",
        "      mid = (self.left + self.right) / 2\n",
        "      f_mid = self.a * mid - math.cos(mid)\n",
        "\n",
        "      try:\n",
        "        if math.isnan(f_mid):\n",
        "          raise Exception(\"cos(x) is NaN for x = \" + str(mid))\n",
        "      except ValueError:\n",
        "          print(\"Error: math domain error\")\n",
        "          break\n",
        "\n",
        "      if f_mid == 0:\n",
        "          self.root = mid\n",
        "          break\n",
        "      elif f_mid * f_left < 0:\n",
        "        self.right = mid\n",
        "      else:\n",
        "        self.left = mid\n",
        "\n",
        "    if self.root is None:\n",
        "        self.root = (self.left + self.right) / 2\n",
        "\n",
        "  def get_root(self):\n",
        "    return self.root\n",
        "\n",
        "a = float(input(\"Введите а: \"))\n",
        "left = float(input(\"Введите левый интервал: \"))\n",
        "right = float(input(\"Введите правый интервал: \"))\n",
        "eps = float(input(\"Введите эпсилон: \"))\n",
        "\n",
        "eq = NonlinearEquation(a, left, right, eps)\n",
        "try:\n",
        "  eq.solve()\n",
        "except Exception as e:\n",
        "  print(\"Error: \" + str(e))\n",
        "print(\"Root: \", eq.get_root())\n"
      ],
      "metadata": {
        "colab": {
          "base_uri": "https://localhost:8080/"
        },
        "id": "Wah16B6cSqN3",
        "outputId": "6d06e464-9790-447a-cb23-e5cb55e74d3e"
      },
      "execution_count": null,
      "outputs": [
        {
          "output_type": "stream",
          "name": "stdout",
          "text": [
            "Введите а: 0\n",
            "Введите левый интервал: 1\n",
            "Введите правый интервал: 2\n",
            "Введите эпсилон: 0.00001\n",
            "Root:  1.5707969665527344\n"
          ]
        }
      ]
    },
    {
      "cell_type": "markdown",
      "source": [
        "#Вариант №2"
      ],
      "metadata": {
        "id": "6vQLVyFCaZiO"
      }
    },
    {
      "cell_type": "code",
      "source": [
        "import math\n",
        "if __name__ ==\"__main__\":\n",
        "\n",
        "  try:\n",
        "    a = float(input(\"Введите а: \"))\n",
        "    left = float(input(\"Введите левый интервал: \"))\n",
        "    right = float(input(\"Введите правый интервал: \"))\n",
        "    eps = float(input(\"Введите эпсилон: \"))\n",
        "  except ValueError as e:\n",
        "    print(\"Error: \" + str(e))\n",
        "  print(\" \")\n",
        "class NonlinearEquation:\n",
        "  def __init__(self, a, left, right, eps):\n",
        "    self.a = a\n",
        "    self.left = left\n",
        "    self.right = right\n",
        "    self.eps = eps\n",
        "    self.root = None\n",
        "\n",
        "  def solve(self):\n",
        "    f_left = self.a * self.left - math.cos(self.left)\n",
        "    f_right = self.a * self.right - math.cos(self.right)\n",
        "\n",
        "    if f_left * f_right > 0:\n",
        "      raise ValueError(\"Interval does not contain a root\")\n",
        "\n",
        "    if (self.left > 0 and self.right > 0) or (self.left < 0 and self.right < 0):\n",
        "      raise ValueError(\"Интервалы должны иметь разные знаки.\")\n",
        "    while abs(self.right - self.left) > self.eps:\n",
        "      mid = (self.left + self.right) / 2\n",
        "      f_mid = self.a * mid - math.cos(mid)\n",
        "\n",
        "      if math.isnan(f_mid):\n",
        "        raise ValueError(\"cos(x) is NaN for x = \" + str(mid))\n",
        "\n",
        "      if f_mid == 0:\n",
        "        self.root = mid\n",
        "        break\n",
        "      elif f_mid * f_left < 0:\n",
        "        self.right = mid\n",
        "      else:\n",
        "        self.left = mid\n",
        "\n",
        "    if self.root is None:\n",
        "        self.root = (self.left + self.right) / 2\n",
        "\n",
        "  def get_root(self):\n",
        "    return self.root\n",
        "\n",
        "\n",
        "\n",
        "try:\n",
        "  eq = NonlinearEquation(a, left, right, eps)\n",
        "  eq.solve()\n",
        "  print(\"Root: \", eq.get_root())\n",
        "except ValueError as e:\n",
        "  print(\"Error: \" + str(e))\n",
        "\n",
        "\n"
      ],
      "metadata": {
        "colab": {
          "base_uri": "https://localhost:8080/"
        },
        "id": "EiBfaId6ZvFU",
        "outputId": "284fa02e-9eaa-4556-df4c-23688f3c1103"
      },
      "execution_count": null,
      "outputs": [
        {
          "output_type": "stream",
          "name": "stdout",
          "text": [
            "Введите а: 2\n",
            "Введите левый интервал: -1\n",
            "Введите правый интервал: 2\n",
            "Введите эпсилон: 0.00001\n",
            " \n",
            "Root:  0.4501810073852539\n"
          ]
        }
      ]
    }
  ]
}