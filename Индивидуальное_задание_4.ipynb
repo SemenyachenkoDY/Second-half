{
  "nbformat": 4,
  "nbformat_minor": 0,
  "metadata": {
    "colab": {
      "provenance": [],
      "collapsed_sections": [
        "8ULFNgKuD3tx",
        "VaRcfJZFD4Wc"
      ],
      "authorship_tag": "ABX9TyOkGfuGaI7g2eDUeJX7UYJK",
      "include_colab_link": true
    },
    "kernelspec": {
      "name": "python3",
      "display_name": "Python 3"
    },
    "language_info": {
      "name": "python"
    }
  },
  "cells": [
    {
      "cell_type": "markdown",
      "metadata": {
        "id": "view-in-github",
        "colab_type": "text"
      },
      "source": [
        "<a href=\"https://colab.research.google.com/github/SemenyachenkoDY/Second-half/blob/main/%D0%98%D0%BD%D0%B4%D0%B8%D0%B2%D0%B8%D0%B4%D1%83%D0%B0%D0%BB%D1%8C%D0%BD%D0%BE%D0%B5_%D0%B7%D0%B0%D0%B4%D0%B0%D0%BD%D0%B8%D0%B5_4.ipynb\" target=\"_parent\"><img src=\"https://colab.research.google.com/assets/colab-badge.svg\" alt=\"Open In Colab\"/></a>"
      ]
    },
    {
      "cell_type": "markdown",
      "source": [
        "#Задача 1\n",
        "Напишите функцию recursive_sum, которая находит сумму всех позиционных аргументов."
      ],
      "metadata": {
        "id": "3r8C2BsQDu_9"
      }
    },
    {
      "cell_type": "code",
      "source": [
        "import sys\n",
        "import time"
      ],
      "metadata": {
        "id": "uGityQY0L5MP"
      },
      "execution_count": 103,
      "outputs": []
    },
    {
      "cell_type": "code",
      "source": [
        "if __name__ == \"__main__\":\n",
        "  print(\"start\")\n",
        "  start = time.time()\n",
        "\n",
        "\n",
        "def recursive_sum(*args):\n",
        "    if not args:\n",
        "        return 0\n",
        "    else:\n",
        "        return args[0] + recursive_sum(*args[1:])\n",
        "\n",
        "args = (1, 2, 3, 4)\n",
        "\n",
        "result = recursive_sum(*args)\n",
        "\n",
        "end = time.time()\n",
        "\n",
        "memory_usage = sys.getsizeof(args) + sys.getsizeof(recursive_sum) + sys.getsizeof(start)+sys.getsizeof(end)+sys.getsizeof(result)\n",
        "print(\"Результат:\", result)\n",
        "print(\"Время работы:\", end - start, \"секунд\")\n",
        "print(\"Используемая память:\", memory_usage, \"байт\")\n"
      ],
      "metadata": {
        "colab": {
          "base_uri": "https://localhost:8080/"
        },
        "id": "1KhuHmoVHTyd",
        "outputId": "4641673a-586d-4d84-e5b0-d25cfe49779b"
      },
      "execution_count": 102,
      "outputs": [
        {
          "output_type": "stream",
          "name": "stdout",
          "text": [
            "start\n",
            "Результат: 10\n",
            "Время работы: 0.00033092498779296875 секунд\n",
            "Используемая память: 292 байт\n"
          ]
        }
      ]
    },
    {
      "cell_type": "markdown",
      "source": [
        "#Задача 2\n",
        "\n",
        "Напишите декоратор answer, который\n",
        "преобразует функцию, принимающую\n",
        "неограниченное число позиционных и\n",
        "именованных параметров и\n",
        "возвращает её результат с припиской \"Результат функции: <значение>\".\n",
        "Примечание\n",
        "Ваше решение должно содержать только\n",
        "функции.\n",
        "В решении не должно быть вызовов\n",
        "требуемых функций.\n"
      ],
      "metadata": {
        "id": "lfOnoeyYDx2d"
      }
    },
    {
      "cell_type": "code",
      "source": [
        "import time\n",
        "import sys"
      ],
      "metadata": {
        "id": "E-6efHUMLziw"
      },
      "execution_count": 104,
      "outputs": []
    },
    {
      "cell_type": "code",
      "source": [
        "if __name__ == \"__main__\":\n",
        "  print(\"start\")\n",
        "  start = time.time()\n",
        "\n",
        "def answer(func):\n",
        "    def wrapper(*args, **kwargs):\n",
        "        result = func(*args, **kwargs)\n",
        "        return f\"Результат функции: {result}\"\n",
        "    return wrapper\n",
        "\n",
        "\n",
        "@answer\n",
        "def a_plus_b(a, b):\n",
        "    return a + b\n",
        "\n",
        "print(a_plus_b(3, 5))\n",
        "print(a_plus_b(7, 9))\n",
        "\n",
        "@answer\n",
        "def get_letters(text: str) -> str:\n",
        "  return ''.join(sorted(set(filter(str.isalpha, text.lower()))))\n",
        "print(get_letters('Hello, world!'))\n",
        "print(get_letters('Декораторы это круто =)'))\n",
        "\n",
        "end = time.time()\n",
        "\n",
        "memory_usage = sys.getsizeof(a_plus_b)+sys.getsizeof(get_letters) +sys.getsizeof(start)+sys.getsizeof(end)+sys.getsizeof(answer)\n",
        "print(\"Время работы:\", end - start, \"секунд\")\n",
        "print(\"Используемая память:\", memory_usage , \"Байт\")"
      ],
      "metadata": {
        "colab": {
          "base_uri": "https://localhost:8080/"
        },
        "id": "CIGgSVmHJJ3g",
        "outputId": "6477fe32-5c14-4490-fa9b-4c524c464e18"
      },
      "execution_count": 106,
      "outputs": [
        {
          "output_type": "stream",
          "name": "stdout",
          "text": [
            "start\n",
            "Результат функции: 8\n",
            "Результат функции: 16\n",
            "Результат функции: dehlorw\n",
            "Результат функции: адекортуыэ\n",
            "Время работы: 0.005415439605712891 секунд\n",
            "Используемая память: 480 Байт\n"
          ]
        }
      ]
    },
    {
      "cell_type": "markdown",
      "source": [
        "#Задача 3\n",
        "Напишите декоратор text_decor, который оборачивает вызов\n",
        "декорированной функции\n",
        "фразами «Hello» и «Goodbye!»:\n",
        "фраза «Hello» печатается до вызова,\n",
        "фраза «Goodbye!» - после."
      ],
      "metadata": {
        "id": "nEnrQSaMD3NV"
      }
    },
    {
      "cell_type": "code",
      "source": [
        "import time\n",
        "import sys"
      ],
      "metadata": {
        "id": "FKncMzQkL8xV"
      },
      "execution_count": 107,
      "outputs": []
    },
    {
      "cell_type": "code",
      "source": [
        "if __name__ == \"__main__\":\n",
        "  print(\"start command\")\n",
        "  start = time.time()\n",
        "  \n",
        "def text_decor(func):\n",
        "  def wrapper(*args,**kwargs):\n",
        "    print(\"Hello\")\n",
        "    result = func(*args, **kwargs)\n",
        "    print(\"Goodbye!\")\n",
        "    return result\n",
        "  return wrapper\n",
        "\n",
        "@text_decor\n",
        "def simple_func():\n",
        "  print('I just simple python func')\n",
        "simple_func()\n",
        "\n",
        "@text_decor\n",
        "def multiply(num1, num2):\n",
        "  print(num1 * num2)\n",
        "multiply(3, 5)\n",
        "\n",
        "end=time.time()\n",
        "\n",
        "memory_usage = sys.getsizeof(simple_func)+sys.getsizeof(multiply)+sys.getsizeof(text_decor)+sys.getsizeof(start)+sys.getsizeof(end)\n",
        "\n",
        "print(\"Время работы:\", end - start, \"секунд\")\n",
        "print(\"Используемая память:\", memory_usage , \"Байт\")"
      ],
      "metadata": {
        "colab": {
          "base_uri": "https://localhost:8080/"
        },
        "id": "xVKOts1LD5Hw",
        "outputId": "4404706b-2f3c-4924-bbe1-bcc2f7066d9b"
      },
      "execution_count": 108,
      "outputs": [
        {
          "output_type": "stream",
          "name": "stdout",
          "text": [
            "start command\n",
            "Hello\n",
            "I just simple python func\n",
            "Goodbye!\n",
            "Hello\n",
            "15\n",
            "Goodbye!\n",
            "Время работы: 0.006443500518798828 секунд\n",
            "Используемая память: 480 Байт\n"
          ]
        }
      ]
    },
    {
      "cell_type": "markdown",
      "source": [
        "#Задача 4\n",
        "Напишите декоратор repeater, который дважды вызывает декорированную функцию"
      ],
      "metadata": {
        "id": "ecN6HB6HD3ir"
      }
    },
    {
      "cell_type": "code",
      "source": [
        "import time\n",
        "import sys"
      ],
      "metadata": {
        "id": "8ev6QSYfD6iF"
      },
      "execution_count": 109,
      "outputs": []
    },
    {
      "cell_type": "code",
      "source": [
        "if __name__ == \"__main__\":\n",
        "  print(\"start command\")\n",
        "  start = time.time()\n",
        "  \n",
        "def repeater(func):\n",
        "  def wrapper(*args,**kwargs):\n",
        "    result = func(*args, **kwargs)\n",
        "    func(*args,**kwargs)\n",
        "    return result\n",
        "  return wrapper\n",
        "\n",
        "\n",
        "@repeater\n",
        "def multiply(num1, num2):\n",
        "  print(num1 * num2)\n",
        "multiply(2, 7) # после этого распечатается две строки со значением 14 \n",
        "multiply(5, 3) # после этого распечатается две строки со значением 15\n",
        "end=time.time()\n",
        "memory_usage = sys.getsizeof(multiply)+sys.getsizeof(repeater)+sys.getsizeof(start)+sys.getsizeof(end)\n",
        "\n",
        "print(\"Время работы:\", end - start, \"секунд\")\n",
        "print(\"Используемая память:\", memory_usage , \"Байт\")"
      ],
      "metadata": {
        "colab": {
          "base_uri": "https://localhost:8080/"
        },
        "id": "uBFaflkdNJyt",
        "outputId": "531cc5e6-ed25-4b98-aaca-748a8afd68a2"
      },
      "execution_count": 110,
      "outputs": [
        {
          "output_type": "stream",
          "name": "stdout",
          "text": [
            "start command\n",
            "14\n",
            "14\n",
            "15\n",
            "15\n",
            "Время работы: 0.0015587806701660156 секунд\n",
            "Используемая память: 336 Байт\n"
          ]
        }
      ]
    },
    {
      "cell_type": "markdown",
      "source": [
        "#Задача 5\n",
        "Напишите декоратор double_it, который возвращает удвоенный результат вызова декорированной функции"
      ],
      "metadata": {
        "id": "8ULFNgKuD3tx"
      }
    },
    {
      "cell_type": "code",
      "source": [
        "import time\n",
        "import sys"
      ],
      "metadata": {
        "id": "p483_ugAD7cz"
      },
      "execution_count": 111,
      "outputs": []
    },
    {
      "cell_type": "code",
      "source": [
        "if __name__ == \"__main__\":\n",
        "  print(\"start command\")\n",
        "  start = time.time()\n",
        "def double_it(func):\n",
        "  def wrapper(*args,**kwargs):\n",
        "    result = func(*args,**kwargs) *2 \n",
        "    return result\n",
        "  return wrapper \n",
        "\n",
        "\n",
        "@double_it\n",
        "def multiply(num1, num2):\n",
        "  return num1 * num2\n",
        "res1 = multiply(9, 4) # произведение 9*4=36, но декораторdouble_it удваивает это значение\n",
        "print(res1)\n",
        "@double_it\n",
        "def get_sum(*args):\n",
        "  return sum(args)\n",
        "res2 = get_sum(1, 2, 3, 4, 5)\n",
        "print(res2) # печатает 30\n",
        "\n",
        "end=time.time()\n",
        "memory_usage = sys.getsizeof(multiply)+sys.getsizeof(get_sum)+sys.getsizeof(start)+sys.getsizeof(end)+sys.getsizeof(double_it)+sys.getsizeof(res1)+sys.getsizeof(res2)\n",
        "\n",
        "print(\"Время работы:\", end - start, \"секунд\")\n",
        "print(\"Используемая память:\", memory_usage, \"Байт\")"
      ],
      "metadata": {
        "colab": {
          "base_uri": "https://localhost:8080/"
        },
        "id": "oDpDbetqOppF",
        "outputId": "0d85b239-bcb0-4be1-beb5-b7b96a61fe6b"
      },
      "execution_count": 123,
      "outputs": [
        {
          "output_type": "stream",
          "name": "stdout",
          "text": [
            "start command\n",
            "72\n",
            "30\n",
            "Время работы: 0.0007472038269042969 секунд\n",
            "Используемая память: 536 Байт\n"
          ]
        }
      ]
    },
    {
      "cell_type": "markdown",
      "source": [
        "#Задача 6\n",
        "Напишите декоратор add_args, который добавляет к переданным аргументам еще два значения: строку begin в начало аргументов, строку end в конец. Также декоратор должен сохранить первоначальное имя декорируемой функцию и ее строку документации."
      ],
      "metadata": {
        "id": "VaRcfJZFD4Wc"
      }
    },
    {
      "cell_type": "code",
      "source": [
        "import functools #Эта библиотека служит для того чтобы сохранить первоначальное имя декорируемой функции и ее строку документации \n",
        "import sys\n",
        "import time "
      ],
      "metadata": {
        "id": "hiir7H4oD8Er"
      },
      "execution_count": 115,
      "outputs": []
    },
    {
      "cell_type": "code",
      "source": [
        "if __name__ == \"__main__\":\n",
        "  print(\"start command\")\n",
        "  start = time.time()\n",
        "def add_args(begin, end):\n",
        "    def decorator(func):\n",
        "        @functools.wraps(func)\n",
        "        def wrapper(*args, **kwargs):\n",
        "            new_args = (begin,) + args + (end,)\n",
        "            return func(*new_args, **kwargs)\n",
        "        return wrapper\n",
        "    return decorator\n",
        "\n",
        "@add_args(\"begin\", \"end\")\n",
        "def my_function(*args):\n",
        "    \"\"\"Hello it`s document\"\"\"\n",
        "    print(args)\n",
        "\n",
        "my_function(\"hello\", \"world\")\n",
        "memory_usage = sys.getsizeof(my_function)+sys.getsizeof(add_args)+sys.getsizeof(start)+sys.getsizeof(end)+sys.getsizeof(help)\n",
        "help(my_function)\n",
        "end=time.time()\n",
        "print(f\"Время выполнения: {end-start} секунд \")\n",
        "print(\"Используемая память:\", memory_usage, \"Байт\")"
      ],
      "metadata": {
        "colab": {
          "base_uri": "https://localhost:8080/"
        },
        "id": "-S7yR_9lR-x5",
        "outputId": "5b8399f1-4395-4c25-8d30-dee0ce1676ed"
      },
      "execution_count": 120,
      "outputs": [
        {
          "output_type": "stream",
          "name": "stdout",
          "text": [
            "start command\n",
            "('begin', 'hello', 'world', 'end')\n",
            "Help on function my_function in module __main__:\n",
            "\n",
            "my_function(*args)\n",
            "    Hello it`s document\n",
            "\n",
            "Время выполнения: 0.005247831344604492 секунд \n",
            "Используемая память: 384 Байт\n"
          ]
        }
      ]
    },
    {
      "cell_type": "markdown",
      "source": [
        "#Задача 7\n",
        "Напишите декоратор validate_args, который валидирует (проверяет на корректность) переданные аргументы. Аргументы нужно проверить на следующее:\n",
        "1. Должно быть передано именно два аргумента. Если передано меньшее количество, декоратор должен вернутьстроку\n",
        "Not enough arguments\n",
        "Если передано более двух аргументов, то возвращаем строку\n",
        "Too many arguments\n",
        "2. Оба аргумента должны быть целыми числами. Если хотя бы одно из них не целое число, возвращаем строкуWrong types\n",
        "Если обе проверки выполняются, возвращаем результат декорируемой функции. Не забывайте сохранять имя функции и строку документации\n",
        "Проверки нужно выполнять в том порядке, в котором они перечислены"
      ],
      "metadata": {
        "id": "uiymPpJTD4fS"
      }
    },
    {
      "cell_type": "code",
      "source": [
        "import time \n",
        "import sys "
      ],
      "metadata": {
        "id": "f6oG7gXUD826"
      },
      "execution_count": 71,
      "outputs": []
    },
    {
      "cell_type": "code",
      "source": [
        "if __name__ == \"__main__\":\n",
        "  start=time.time()\n",
        "def validate_args(func):\n",
        "    def wrapper(*args, **kwargs):\n",
        "        if len(args) < 2:\n",
        "            return \"Not enough arguments\"\n",
        "        elif len(args) >2:\n",
        "            return \"To many arguments\" \n",
        "        elif not all(isinstance(arg, int) for arg in args):\n",
        "            return \"Wrong types\"\n",
        "        else:\n",
        "            return func(*args, **kwargs)\n",
        "    return wrapper\n",
        "\n",
        "@validate_args\n",
        "def multiply(n1, n2):\n",
        "    return n1 * n2\n",
        "\n",
        "result1 = multiply(3, 4)  # вернет 12\n",
        "result2 = multiply(3.5, \"4\")  # вернет \"Wrong types\"\n",
        "result3 = multiply(3)  # вернет \"Not enough arguments\"\n",
        "result4 = multiply(3, 4, 5)  # вернет \"Too many arguments\"\n",
        "\n",
        "print(result1)\n",
        "print(result2)\n",
        "print(result3)\n",
        "print(result4)\n",
        "\n",
        "memory_usage = sys.getsizeof(end)+sys.getsizeof(start)+sys.getsizeof(multiply)+sys.getsizeof(validate_args)+sys.getsizeof(result1)+sys.getsizeof(result2)+sys.getsizeof(result3)+sys.getsizeof(result4)\n",
        "\n",
        "end=time.time()\n",
        "\n",
        "print(f\"Время выполнения: {end-start} секунд \")\n",
        "print(\"Используемая память:\", memory_usage, \"Байт\")"
      ],
      "metadata": {
        "colab": {
          "base_uri": "https://localhost:8080/"
        },
        "id": "D_T-jZQYWgVD",
        "outputId": "f6b23736-0541-425a-d826-60cfa509131c"
      },
      "execution_count": 121,
      "outputs": [
        {
          "output_type": "stream",
          "name": "stdout",
          "text": [
            "12\n",
            "Wrong types\n",
            "Not enough arguments\n",
            "To many arguments\n",
            "Время выполнения: 0.0062618255615234375 секунд \n",
            "Используемая память: 559 Байт\n"
          ]
        }
      ]
    }
  ]
}