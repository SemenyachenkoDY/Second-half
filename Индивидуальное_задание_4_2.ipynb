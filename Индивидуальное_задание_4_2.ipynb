{
  "nbformat": 4,
  "nbformat_minor": 0,
  "metadata": {
    "colab": {
      "provenance": [],
      "authorship_tag": "ABX9TyOSMFxFzDb4lxEcVcFHFTRZ",
      "include_colab_link": true
    },
    "kernelspec": {
      "name": "python3",
      "display_name": "Python 3"
    },
    "language_info": {
      "name": "python"
    }
  },
  "cells": [
    {
      "cell_type": "markdown",
      "metadata": {
        "id": "view-in-github",
        "colab_type": "text"
      },
      "source": [
        "<a href=\"https://colab.research.google.com/github/SemenyachenkoDY/Second-half/blob/main/%D0%98%D0%BD%D0%B4%D0%B8%D0%B2%D0%B8%D0%B4%D1%83%D0%B0%D0%BB%D1%8C%D0%BD%D0%BE%D0%B5_%D0%B7%D0%B0%D0%B4%D0%B0%D0%BD%D0%B8%D0%B5_4_2.ipynb\" target=\"_parent\"><img src=\"https://colab.research.google.com/assets/colab-badge.svg\" alt=\"Open In Colab\"/></a>"
      ]
    },
    {
      "cell_type": "markdown",
      "source": [
        "#1. Чет, нечет"
      ],
      "metadata": {
        "id": "RrZFoFO-nW_I"
      }
    },
    {
      "cell_type": "code",
      "execution_count": 3,
      "metadata": {
        "colab": {
          "base_uri": "https://localhost:8080/"
        },
        "id": "tMf5qB4unLHz",
        "outputId": "be586dbc-f44e-4e4d-8bee-0318cc475990"
      },
      "outputs": [
        {
          "output_type": "stream",
          "name": "stdout",
          "text": [
            "['odd', 'odd', 'even']\n"
          ]
        }
      ],
      "source": [
        "def odd_even(v: list[int]) -> list[str]:\n",
        "    return [\"even\" if num % 2 == 0 else \"odd\" for num in v]\n",
        "\n",
        "numbers = [1, 3, 2]\n",
        "print(odd_even(numbers))  # [\"odd\", \"odd\", \"even\"]\n"
      ]
    },
    {
      "cell_type": "markdown",
      "source": [
        "#2. Числа с цифрой 6"
      ],
      "metadata": {
        "id": "N_qY_HRho6Ds"
      }
    },
    {
      "cell_type": "code",
      "source": [
        "def contains_digit_six(v: list[int]) -> list[int]:\n",
        " return [num for num in v if \"6\" in str(abs(num))]\n",
        "v = [5, 6, 15, 51, 16, 61, 66, -5, -6]\n",
        "print(contains_digit_six(v)) # [6, 16, 61, 66, -6]"
      ],
      "metadata": {
        "colab": {
          "base_uri": "https://localhost:8080/"
        },
        "id": "1OMXANvNo5x4",
        "outputId": "808d4542-b50f-4371-f823-a5a2781e9b85"
      },
      "execution_count": 4,
      "outputs": [
        {
          "output_type": "stream",
          "name": "stdout",
          "text": [
            "[6, 16, 61, 66, -6]\n"
          ]
        }
      ]
    },
    {
      "cell_type": "markdown",
      "source": [
        "#3. Сумма по столбцам"
      ],
      "metadata": {
        "id": "so9B1fS7o6zu"
      }
    },
    {
      "cell_type": "code",
      "source": [
        "def columnwise_sum(matrix: list[list[float]]) -> list[float]:\n",
        " return [sum(Column) for Column in zip(*matrix)]\n",
        "matrix = [[1, 2], [3, 4]]\n",
        "print(columnwise_sum(matrix)) # [4, 6]"
      ],
      "metadata": {
        "colab": {
          "base_uri": "https://localhost:8080/"
        },
        "id": "74gm0N7Bo6cb",
        "outputId": "5c9a731c-a38a-4399-db94-9e3f8b951126"
      },
      "execution_count": 12,
      "outputs": [
        {
          "output_type": "stream",
          "name": "stdout",
          "text": [
            "[4, 6]\n"
          ]
        }
      ]
    },
    {
      "cell_type": "markdown",
      "source": [
        "#5. Логирующий декоратор"
      ],
      "metadata": {
        "id": "9Rlp8Um3r8sR"
      }
    },
    {
      "cell_type": "code",
      "source": [
        "def logged(filename):\n",
        "    def decorator(func):\n",
        "        def wrapper(*args, **kwargs):\n",
        "            result = func(*args, **kwargs)\n",
        "            with open(filename, 'a') as file:\n",
        "                file.write(f\"Функция '{func.__name__}' вызванa с аргументами: args={args}, kwargs={kwargs}\\n\")\n",
        "                file.write(f\"Результат: {result}\\n\")\n",
        "            return result\n",
        "        return wrapper\n",
        "    return decorator\n",
        "\n",
        "@logged(\"aaagdada\")\n",
        "def add(x,y):\n",
        "  return x+y\n",
        "\n",
        "@logged(\"aaagdada\")\n",
        "def multiply(x,y):\n",
        "  return x*y\n",
        "\n",
        "@logged(\"aaagdada\")\n",
        "def stro(x,y):\n",
        "  return x+y\n",
        "\n",
        "add(2,3)\n",
        "multiply(5,10)\n",
        "stro(\"kolba\",\"kolpa\")"
      ],
      "metadata": {
        "colab": {
          "base_uri": "https://localhost:8080/",
          "height": 36
        },
        "id": "JXdgVwwUr8bw",
        "outputId": "90802769-22e3-4108-9f51-11c6a16bed80"
      },
      "execution_count": 32,
      "outputs": [
        {
          "output_type": "execute_result",
          "data": {
            "text/plain": [
              "'kolbakolpa'"
            ],
            "application/vnd.google.colaboratory.intrinsic+json": {
              "type": "string"
            }
          },
          "metadata": {},
          "execution_count": 32
        }
      ]
    },
    {
      "cell_type": "markdown",
      "source": [
        "#6. Декоратор, проверяющий тип"
      ],
      "metadata": {
        "id": "NadfRqhot5bZ"
      }
    },
    {
      "cell_type": "code",
      "source": [
        "def typed(type_):\n",
        "  def decorator(func):\n",
        "    def wrapper(x):\n",
        "      if not isinstance(x,type_):\n",
        "        error_msg =\"Функция {} вызвана с неправильным типом аргумента {}.Ожидался другой тип {}\"\n",
        "        raise TypeError(error_msg.format(\n",
        "          func.__name__,\n",
        "          type(x).__name__,\n",
        "          type_.__name__\n",
        "        ))\n",
        "      return func(x)\n",
        "    return wrapper\n",
        "  return decorator\n",
        "@typed(str)\n",
        "def paint_red(x):\n",
        "  color_red = \"\\033[91m\"\n",
        "  color_end = \"\\033[0m\"\n",
        "  return \"\".join([color_red, x, color_end]) \n",
        "\n",
        "print(paint_red(\"Текст красным цветом\"))\n",
        "try:\n",
        "  paint_red(42)\n",
        "except TypeError as msg:\n",
        "  print(msg) "
      ],
      "metadata": {
        "colab": {
          "base_uri": "https://localhost:8080/"
        },
        "id": "3OJvPBzwxs6F",
        "outputId": "242b8d54-4351-40b6-f3fa-66d352e9264f"
      },
      "execution_count": 27,
      "outputs": [
        {
          "output_type": "stream",
          "name": "stdout",
          "text": [
            "\u001b[91mТекст красным цветом\u001b[0m\n",
            "Функция paint_red вызвана с неправильным типом аргумента int.Ожидался другой тип str\n"
          ]
        }
      ]
    }
  ]
}