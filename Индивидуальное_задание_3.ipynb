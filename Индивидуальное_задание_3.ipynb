{
  "nbformat": 4,
  "nbformat_minor": 0,
  "metadata": {
    "colab": {
      "provenance": [],
      "authorship_tag": "ABX9TyNNTAXanBATUEbEGmTZZsl/",
      "include_colab_link": true
    },
    "kernelspec": {
      "name": "python3",
      "display_name": "Python 3"
    },
    "language_info": {
      "name": "python"
    }
  },
  "cells": [
    {
      "cell_type": "markdown",
      "metadata": {
        "id": "view-in-github",
        "colab_type": "text"
      },
      "source": [
        "<a href=\"https://colab.research.google.com/github/SemenyachenkoDY/Second-half/blob/main/%D0%98%D0%BD%D0%B4%D0%B8%D0%B2%D0%B8%D0%B4%D1%83%D0%B0%D0%BB%D1%8C%D0%BD%D0%BE%D0%B5_%D0%B7%D0%B0%D0%B4%D0%B0%D0%BD%D0%B8%D0%B5_3.ipynb\" target=\"_parent\"><img src=\"https://colab.research.google.com/assets/colab-badge.svg\" alt=\"Open In Colab\"/></a>"
      ]
    },
    {
      "cell_type": "code",
      "source": [
        "class Product:\n",
        "    def __init__(self, name, price, weight):\n",
        "        self.name = name\n",
        "        self.price = price\n",
        "        self.weight = weight\n",
        "\n",
        "class Buy(Product):\n",
        "    def __init__(self, name, price, weight, quantity):\n",
        "        super().__init__(name, price, weight)\n",
        "        self.quantity = quantity\n",
        "        self.total_price = self.price * self.quantity\n",
        "        self.total_weight = self.weight * self.quantity\n",
        "    \n",
        "class Check(Buy):\n",
        "    def print_info(self):\n",
        "        print(\"Название продукта: \", self.name)\n",
        "        print(\"Стоимость за 1 еденицу товара:\", self.price , \"₽\")\n",
        "        print(\"Вес за 1 еденицу товара: \", self.weight, \"kg\")\n",
        "        print(\"Количество: \", self.quantity)\n",
        "        print(\"Общая стоимсоть покупок:\", self.total_price, \"₽\")\n",
        "        print(\"Общий вес покупок: \", self.total_weight, \"kg\")\n",
        "\n",
        "views = [\n",
        "    Buy(\"Ноутбук\", 70000, 4.5, 2),\n",
        "    Buy(\"Телефон\", 120000, 1, 3),\n",
        "    Buy(\"Наушники\", 20000, 0.5, 4)\n",
        "]\n",
        "\n",
        "for view in views:\n",
        "    check = Check(view.name, view.price, view.weight, view.quantity)\n",
        "    check.print_info()"
      ],
      "metadata": {
        "colab": {
          "base_uri": "https://localhost:8080/"
        },
        "id": "2pp1FGoId7gq",
        "outputId": "7d3d0ebd-0644-4b10-f909-09c30231674a"
      },
      "execution_count": null,
      "outputs": [
        {
          "output_type": "stream",
          "name": "stdout",
          "text": [
            "Название продукта:  Ноутбук\n",
            "Стоимость за 1 еденицу товара: 70000 ₽\n",
            "Вес за 1 еденицу товара:  4.5 kg\n",
            "Количество:  2\n",
            "Общая стоимсоть покупок: 140000 ₽\n",
            "Общий вес покупок:  9.0 kg\n",
            "Название продукта:  Телефон\n",
            "Стоимость за 1 еденицу товара: 120000 ₽\n",
            "Вес за 1 еденицу товара:  1 kg\n",
            "Количество:  3\n",
            "Общая стоимсоть покупок: 360000 ₽\n",
            "Общий вес покупок:  3 kg\n",
            "Название продукта:  Наушники\n",
            "Стоимость за 1 еденицу товара: 20000 ₽\n",
            "Вес за 1 еденицу товара:  0.5 kg\n",
            "Количество:  4\n",
            "Общая стоимсоть покупок: 80000 ₽\n",
            "Общий вес покупок:  2.0 kg\n"
          ]
        }
      ]
    },
    {
      "cell_type": "code",
      "source": [
        "import math\n",
        "x= int(input(\"Введите x: \"))\n",
        "value =int(input(\"Введите value: \"))\n",
        "class Calculator:\n",
        "  def __init__(self,x,value):\n",
        "    self.x = x\n",
        "    self.value = value\n",
        "        \n",
        "  def add(self):\n",
        "    a = self.x + self.value\n",
        "    return a\n",
        "        \n",
        "  def subtract(self):\n",
        "    b = self.x - self.value\n",
        "    return b\n",
        "    \n",
        "  def multiply(self):\n",
        "    c = self.x * self.value\n",
        "    return c\n",
        "    \n",
        "  def divide(self):\n",
        "    if self.value == 0:\n",
        "      print(\"Error: Нельзя делить на 0.\")\n",
        "    else:\n",
        "       d = self.x / self.value\n",
        "    return d\n",
        "    \n",
        "  def square_root(self):\n",
        "    if self.x < 0:\n",
        "      print(\"Error: Невозможно извлечь квадратный корень из отрицательного числа.\")\n",
        "    else:\n",
        "      e = math.sqrt(self.x)\n",
        "    return e\n",
        "    \n",
        "  def trig_function(self, func):\n",
        "    if func == 'sin':\n",
        "      f = math.sin(self.x)\n",
        "    elif func == 'cos':\n",
        "      f = math.cos(self.x)\n",
        "    elif func == 'tan':\n",
        "      f = math.tan(self.x)\n",
        "    elif func == 'asin':\n",
        "      f = math.asin(self.x)\n",
        "    elif func == 'acos':\n",
        "      f = math.acos(self.x)\n",
        "    elif func == 'atan':\n",
        "      f = math.atan(self.x)\n",
        "    else:\n",
        "      print(\"Error: Недопустимая тригонометрическая функция.\")\n",
        "    return f\n",
        "\n",
        "class Memory:\n",
        "  def __init__(self):\n",
        "    self.memory = 0.0\n",
        "        \n",
        "  def store(self, value):\n",
        "    self.memory = value\n",
        "        \n",
        "  def recall(self):\n",
        "    return self.memory\n",
        "        \n",
        "  def add_to_memory(self, value):\n",
        "    self.memory += value\n",
        "\n",
        "\n",
        "c=Calculator(x,value)\n",
        "print(\"сложение: \" ,c.add())\n",
        "print(\"вычитание: \",c.subtract())\n",
        "print(\"Умножение: \",c.multiply())\n",
        "print(\"Деление: \",c.divide())\n",
        "print(\"Корень: \",c.square_root())\n",
        "print(\"Тригонометрия: \",c.trig_function(\"sin\"))\n"
      ],
      "metadata": {
        "colab": {
          "base_uri": "https://localhost:8080/"
        },
        "id": "EvabJJN9f-z4",
        "outputId": "1a39451e-aa78-425e-fe2c-be135d673357"
      },
      "execution_count": null,
      "outputs": [
        {
          "output_type": "stream",
          "name": "stdout",
          "text": [
            "Введите x: 10\n",
            "Введите value: 2\n",
            "сложение:  12\n",
            "вычитание:  8\n",
            "Умножение:  20\n",
            "Деление:  5.0\n",
            "Корень:  3.1622776601683795\n",
            "Тригонометрия:  -0.5440211108893698\n"
          ]
        }
      ]
    }
  ]
}