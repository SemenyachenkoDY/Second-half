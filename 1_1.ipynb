{
  "nbformat": 4,
  "nbformat_minor": 0,
  "metadata": {
    "colab": {
      "provenance": [],
      "authorship_tag": "ABX9TyOwZkdC2yxe2fFWBUj6CwmC",
      "include_colab_link": true
    },
    "kernelspec": {
      "name": "python3",
      "display_name": "Python 3"
    },
    "language_info": {
      "name": "python"
    }
  },
  "cells": [
    {
      "cell_type": "markdown",
      "metadata": {
        "id": "view-in-github",
        "colab_type": "text"
      },
      "source": [
        "<a href=\"https://colab.research.google.com/github/SemenyachenkoDY/Second-half/blob/main/1_1.ipynb\" target=\"_parent\"><img src=\"https://colab.research.google.com/assets/colab-badge.svg\" alt=\"Open In Colab\"/></a>"
      ]
    },
    {
      "cell_type": "code",
      "execution_count": null,
      "metadata": {
        "colab": {
          "base_uri": "https://localhost:8080/"
        },
        "id": "jXYFH-HSUaG5",
        "outputId": "7d8e6592-7260-48e9-b41d-2a856096ab2f"
      },
      "outputs": [
        {
          "output_type": "stream",
          "name": "stdout",
          "text": [
            "multiplies: 100\n",
            "Reducing: 15\n"
          ]
        }
      ],
      "source": [
        "class A():\n",
        "    \"\"\"\n",
        "    Class that multi and reduce numbers.\n",
        "    \"\"\"\n",
        "\n",
        "    __a = float() # Privite variable\n",
        "    __b = float() # Privite variable\n",
        "    def __init__(self, __a, __b):\n",
        "        self.a = __a\n",
        "        self.b = __b\n",
        "    \n",
        "    def multi(self):\n",
        "        \"\"\"\n",
        "        Function multiplies first number by second number.\n",
        "        \"\"\"\n",
        "        c = self.a * self.b \n",
        "        return c\n",
        "    \n",
        "    def reduce(self):\n",
        "        \"\"\"\n",
        "        Function reduce first number by second number.\n",
        "        \"\"\"\n",
        "        c = self.a - self.b\n",
        "        return c\n",
        "    \n",
        "    def __del__(self):\n",
        "        print('Process deleted.')\n",
        "\n",
        "c1 = A(20, 5)\n",
        "print(f'multiplies: {c1.multi()}')\n",
        "print(f'Reducing: {c1.reduce()}')\n",
        "     "
      ]
    },
    {
      "cell_type": "code",
      "source": [
        "class Program():\n",
        "    \"\"\"\n",
        "    Class that calling class \"A()\"\n",
        "    \"\"\"\n",
        "    def __init__(self):\n",
        "        c2 = A(20, 5)\n",
        "        print(c2.multi())\n",
        "        print(c2.reduce())\n",
        "\n",
        "if __name__ == \"__main__\":\n",
        "    f1 = Program()\n",
        "    del f1\n",
        "     "
      ],
      "metadata": {
        "colab": {
          "base_uri": "https://localhost:8080/"
        },
        "id": "JfBt3usbeV4X",
        "outputId": "53a4ef74-747a-4eed-a27c-f1f3caf3658b"
      },
      "execution_count": null,
      "outputs": [
        {
          "output_type": "stream",
          "name": "stdout",
          "text": [
            "100\n",
            "15\n",
            "Process deleted.\n"
          ]
        }
      ]
    }
  ]
}