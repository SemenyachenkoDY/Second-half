{
  "nbformat": 4,
  "nbformat_minor": 0,
  "metadata": {
    "colab": {
      "provenance": [],
      "authorship_tag": "ABX9TyNq7PhQdc9yem1n5wyNQ0xu",
      "include_colab_link": true
    },
    "kernelspec": {
      "name": "python3",
      "display_name": "Python 3"
    },
    "language_info": {
      "name": "python"
    }
  },
  "cells": [
    {
      "cell_type": "markdown",
      "metadata": {
        "id": "view-in-github",
        "colab_type": "text"
      },
      "source": [
        "<a href=\"https://colab.research.google.com/github/SemenyachenkoDY/Second-half/blob/main/lab4.ipynb\" target=\"_parent\"><img src=\"https://colab.research.google.com/assets/colab-badge.svg\" alt=\"Open In Colab\"/></a>"
      ]
    },
    {
      "cell_type": "code",
      "execution_count": null,
      "metadata": {
        "id": "hHsgMcFNCyK4"
      },
      "outputs": [],
      "source": [
        "class TV: \n",
        "    def __init__(self, brand, screen_size, sound_power): \n",
        "        self.brand = brand \n",
        "        self.screen_size = screen_size \n",
        "        self.sound_power = sound_power \n",
        " \n",
        "    def calculate_Q(self): \n",
        "        return self.screen_size + (0.05 * self.sound_power) \n",
        " \n",
        "    def print_info(self): \n",
        "        print(\"Фирма:\", self.brand) \n",
        "        print(\"Диагональ экрана (дюйм):\", self.screen_size) \n",
        "        print(\"Звуковая мощность (дб):\", self.sound_power)\n",
        "        print(\"Качество:\", self.calculate_Q()) \n",
        " \n",
        "class SmartTV(TV): \n",
        "    def __init__(self, brand, screen_size, sound_power, country): \n",
        "        super().__init__(brand, screen_size, sound_power) \n",
        "        self.country = country \n",
        " \n",
        "    def calculate_Qp(self): \n",
        "        q = super().calculate_Q() \n",
        "        if self.country == \"Россия\": \n",
        "            return q * 2 \n",
        "        elif self.country == \"Сингапур\" or self.country == \"Корея\": \n",
        "            return q * 1.5 \n",
        "        else: \n",
        "            return q \n",
        " \n",
        "    def print_info(self): \n",
        "        super().print_info() \n",
        "        print(\"Страна-производитель:\", self.country)"
      ]
    },
    {
      "cell_type": "code",
      "source": [
        "tv = TV('Samsung', 55, 20)\n",
        "tv.print_info()\n",
        "\n",
        "\n",
        "smart_tv = SmartTV('LG', 65, 30, 'Россия')\n",
        "smart_tv.print_info()\n"
      ],
      "metadata": {
        "id": "WIBVqAOTKKHU",
        "colab": {
          "base_uri": "https://localhost:8080/"
        },
        "outputId": "a0d7cd25-e83f-4d15-bc42-6b48d33de263"
      },
      "execution_count": null,
      "outputs": [
        {
          "output_type": "stream",
          "name": "stdout",
          "text": [
            "Фирма: Samsung\n",
            "Диагональ экрана (дюйм): 55\n",
            "Звуковая мощность (дб): 20\n",
            "Качество: 56.0\n",
            "Фирма: LG\n",
            "Диагональ экрана (дюйм): 65\n",
            "Звуковая мощность (дб): 30\n",
            "Качество: 66.5\n",
            "Страна-производитель: Россия\n"
          ]
        }
      ]
    }
  ]
}